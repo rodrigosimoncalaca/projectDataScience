{
  "nbformat": 4,
  "nbformat_minor": 0,
  "metadata": {
    "colab": {
      "name": "SegmentacaoClientes.ipynb",
      "provenance": [],
      "toc_visible": true,
      "authorship_tag": "ABX9TyNzd+UqBhEhN96P+wjj+YHI",
      "include_colab_link": true
    },
    "kernelspec": {
      "name": "python3",
      "display_name": "Python 3"
    }
  },
  "cells": [
    {
      "cell_type": "markdown",
      "metadata": {
        "id": "view-in-github",
        "colab_type": "text"
      },
      "source": [
        "<a href=\"https://colab.research.google.com/github/rodrigosimoncalaca/projectDataScience/blob/master/SegmentacaoClientes.ipynb\" target=\"_parent\"><img src=\"https://colab.research.google.com/assets/colab-badge.svg\" alt=\"Open In Colab\"/></a>"
      ]
    },
    {
      "cell_type": "markdown",
      "metadata": {
        "id": "FKwEc90sgAfs",
        "colab_type": "text"
      },
      "source": [
        "#**Analisando Dados de Segmentação de Clientes através de Cluster**"
      ]
    },
    {
      "cell_type": "code",
      "metadata": {
        "id": "xwz5TepFgblc",
        "colab_type": "code",
        "colab": {}
      },
      "source": [
        "import warnings\n",
        "warnings.filterwarnings(\"ignore\")"
      ],
      "execution_count": 0,
      "outputs": []
    },
    {
      "cell_type": "code",
      "metadata": {
        "id": "Y8sFLDyUgLyN",
        "colab_type": "code",
        "colab": {}
      },
      "source": [
        "#importando as bibliotecas necessárias\n",
        "import numpy as np \n",
        "import pandas as pd\n",
        "import matplotlib.pyplot as plt\n",
        "import seaborn as sns  \n",
        "%matplotlib inline"
      ],
      "execution_count": 0,
      "outputs": []
    },
    {
      "cell_type": "markdown",
      "metadata": {
        "id": "Yol7HjuxgtOY",
        "colab_type": "text"
      },
      "source": [
        "## Obtendo Dados\n"
      ]
    },
    {
      "cell_type": "code",
      "metadata": {
        "id": "5RSzIDcMgUg7",
        "colab_type": "code",
        "colab": {}
      },
      "source": [
        "\n",
        "dataset = pd.read_csv('/content/Mall_Customers.csv')"
      ],
      "execution_count": 0,
      "outputs": []
    },
    {
      "cell_type": "markdown",
      "metadata": {
        "id": "pfGZJrGyg__2",
        "colab_type": "text"
      },
      "source": [
        "## Primeiras Análises\n",
        "\n",
        "Esta etapa tem por objetivo criar uma consciência situacional inicial e permitir um entendimento de como os dados estão estruturados."
      ]
    },
    {
      "cell_type": "code",
      "metadata": {
        "id": "-NMOEfGqg8b4",
        "colab_type": "code",
        "colab": {
          "base_uri": "https://localhost:8080/",
          "height": 206
        },
        "outputId": "8161ca12-8be3-41c5-c92c-2e7ca8a922ca"
      },
      "source": [
        "# Executar para mostrar as 5 primeiras linhas, e entendermos a estrutura para montar um dicionário das variáveis\n",
        "dataset.head()"
      ],
      "execution_count": 6,
      "outputs": [
        {
          "output_type": "execute_result",
          "data": {
            "text/html": [
              "<div>\n",
              "<style scoped>\n",
              "    .dataframe tbody tr th:only-of-type {\n",
              "        vertical-align: middle;\n",
              "    }\n",
              "\n",
              "    .dataframe tbody tr th {\n",
              "        vertical-align: top;\n",
              "    }\n",
              "\n",
              "    .dataframe thead th {\n",
              "        text-align: right;\n",
              "    }\n",
              "</style>\n",
              "<table border=\"1\" class=\"dataframe\">\n",
              "  <thead>\n",
              "    <tr style=\"text-align: right;\">\n",
              "      <th></th>\n",
              "      <th>CustomerID</th>\n",
              "      <th>Gender</th>\n",
              "      <th>Age</th>\n",
              "      <th>Annual Income (k$)</th>\n",
              "      <th>Spending Score (1-100)</th>\n",
              "    </tr>\n",
              "  </thead>\n",
              "  <tbody>\n",
              "    <tr>\n",
              "      <th>0</th>\n",
              "      <td>1</td>\n",
              "      <td>Male</td>\n",
              "      <td>19</td>\n",
              "      <td>15</td>\n",
              "      <td>39</td>\n",
              "    </tr>\n",
              "    <tr>\n",
              "      <th>1</th>\n",
              "      <td>2</td>\n",
              "      <td>Male</td>\n",
              "      <td>21</td>\n",
              "      <td>15</td>\n",
              "      <td>81</td>\n",
              "    </tr>\n",
              "    <tr>\n",
              "      <th>2</th>\n",
              "      <td>3</td>\n",
              "      <td>Female</td>\n",
              "      <td>20</td>\n",
              "      <td>16</td>\n",
              "      <td>6</td>\n",
              "    </tr>\n",
              "    <tr>\n",
              "      <th>3</th>\n",
              "      <td>4</td>\n",
              "      <td>Female</td>\n",
              "      <td>23</td>\n",
              "      <td>16</td>\n",
              "      <td>77</td>\n",
              "    </tr>\n",
              "    <tr>\n",
              "      <th>4</th>\n",
              "      <td>5</td>\n",
              "      <td>Female</td>\n",
              "      <td>31</td>\n",
              "      <td>17</td>\n",
              "      <td>40</td>\n",
              "    </tr>\n",
              "  </tbody>\n",
              "</table>\n",
              "</div>"
            ],
            "text/plain": [
              "   CustomerID  Gender  Age  Annual Income (k$)  Spending Score (1-100)\n",
              "0           1    Male   19                  15                      39\n",
              "1           2    Male   21                  15                      81\n",
              "2           3  Female   20                  16                       6\n",
              "3           4  Female   23                  16                      77\n",
              "4           5  Female   31                  17                      40"
            ]
          },
          "metadata": {
            "tags": []
          },
          "execution_count": 6
        }
      ]
    },
    {
      "cell_type": "markdown",
      "metadata": {
        "id": "gcu0TLNShKID",
        "colab_type": "text"
      },
      "source": [
        "\n",
        "## Dicionário de Dados\n",
        "\n",
        "   \n",
        "* CustomerID: ID\n",
        "* Gender: Gênero\n",
        "* Age: Idade\n",
        "* Annual Income K$: Receita Anual\n",
        "* Speding Score (1-100): Pontuação de Gastos\n",
        "\n"
      ]
    },
    {
      "cell_type": "markdown",
      "metadata": {
        "id": "kxrEZ74uiAF_",
        "colab_type": "text"
      },
      "source": [
        "### **Q1. Quantos atributos (variáveis) e quantas entradas o nosso conjunto de dados possui? Quais os tipos das variáveis?**\n",
        "\n",
        "Vamos prosseguir e identificar a quantidade de entradas que nosso conjunto de dados possui e ver os tipos de cada coluna."
      ]
    },
    {
      "cell_type": "code",
      "metadata": {
        "id": "NYMnTipJhEPP",
        "colab_type": "code",
        "colab": {
          "base_uri": "https://localhost:8080/",
          "height": 173
        },
        "outputId": "83a47ffd-088d-49d2-ec78-726d0c283ad8"
      },
      "source": [
        "# identificar o volume de dados do DataFrame\n",
        "print(\"Entradas:\\t {}\".format(dataset.shape[0]))\n",
        "print(\"Variáveis:\\t {}\\n\".format(dataset.shape[1]))\n",
        "\n",
        "# verificar os tipos das variáveis\n",
        "display(dataset.dtypes)"
      ],
      "execution_count": 7,
      "outputs": [
        {
          "output_type": "stream",
          "text": [
            "Entradas:\t 200\n",
            "Variáveis:\t 5\n",
            "\n"
          ],
          "name": "stdout"
        },
        {
          "output_type": "display_data",
          "data": {
            "text/plain": [
              "CustomerID                 int64\n",
              "Gender                    object\n",
              "Age                        int64\n",
              "Annual Income (k$)         int64\n",
              "Spending Score (1-100)     int64\n",
              "dtype: object"
            ]
          },
          "metadata": {
            "tags": []
          }
        }
      ]
    },
    {
      "cell_type": "markdown",
      "metadata": {
        "id": "eOIow798iNrg",
        "colab_type": "text"
      },
      "source": [
        "### **Q2. Qual a porcentagem de valores ausentes no *dataset*?**\n",
        "\n",
        "A qualidade de um *dataset* está diretamente relacionada à quantidade de valores ausentes. É importante entender logo no início se esses valores nulos são significativos comparados ao total de entradas.\n"
      ]
    },
    {
      "cell_type": "code",
      "metadata": {
        "id": "Bk1Lb-DbiGCA",
        "colab_type": "code",
        "colab": {
          "base_uri": "https://localhost:8080/",
          "height": 121
        },
        "outputId": "e6c84eb4-b220-420b-c4a7-92c28d0e91c8"
      },
      "source": [
        "# ordenar em ordem decrescente as variáveis pela porcentagem de valores ausentes\n",
        "(dataset.isnull().sum() / dataset.shape[0]).sort_values(ascending=False)*100"
      ],
      "execution_count": 8,
      "outputs": [
        {
          "output_type": "execute_result",
          "data": {
            "text/plain": [
              "Spending Score (1-100)    0.0\n",
              "Annual Income (k$)        0.0\n",
              "Age                       0.0\n",
              "Gender                    0.0\n",
              "CustomerID                0.0\n",
              "dtype: float64"
            ]
          },
          "metadata": {
            "tags": []
          },
          "execution_count": 8
        }
      ]
    },
    {
      "cell_type": "markdown",
      "metadata": {
        "id": "5dsmgReTitb-",
        "colab_type": "text"
      },
      "source": [
        "### **Q3. Construindo o modelo**\n",
        "\n",
        "KMeans Algoritmo é usado decidir o número ideal de cluster,através do método Elbow."
      ]
    },
    {
      "cell_type": "code",
      "metadata": {
        "id": "o1gRI4tOiUqK",
        "colab_type": "code",
        "colab": {}
      },
      "source": [
        "#Váriavel alocada para considerar apenas a coluna receita anual e pontuação de gastos\n",
        "X= dataset.iloc[:, [3,4]].values"
      ],
      "execution_count": 0,
      "outputs": []
    },
    {
      "cell_type": "code",
      "metadata": {
        "id": "xO0GYd7fjdO4",
        "colab_type": "code",
        "colab": {}
      },
      "source": [
        "from sklearn.cluster import KMeans\n",
        "wcss=[]"
      ],
      "execution_count": 0,
      "outputs": []
    },
    {
      "cell_type": "code",
      "metadata": {
        "id": "D7HB3OLrj1Dm",
        "colab_type": "code",
        "colab": {}
      },
      "source": [
        "#fórmula usada para segregar os pontos de dados em clusters\n",
        "for i in range(1,11):\n",
        "    kmeans = KMeans(n_clusters= i, init='k-means++', random_state=0)\n",
        "    kmeans.fit(X)\n",
        "    wcss.append(kmeans.inertia_)"
      ],
      "execution_count": 0,
      "outputs": []
    },
    {
      "cell_type": "code",
      "metadata": {
        "id": "OM5Vl1jRj3Yb",
        "colab_type": "code",
        "colab": {
          "base_uri": "https://localhost:8080/",
          "height": 295
        },
        "outputId": "19af8184-7baa-4dd5-a729-26c5415ff312"
      },
      "source": [
        "plt.plot(range(1,11), wcss)\n",
        "plt.title('Método Elbow')\n",
        "plt.xlabel('Nº de clusters')\n",
        "plt.ylabel('wcss')\n",
        "plt.show()"
      ],
      "execution_count": 13,
      "outputs": [
        {
          "output_type": "display_data",
          "data": {
            "image/png": "[encoded data removed]",
            "text/plain": [
              "<Figure size 432x288 with 1 Axes>"
            ]
          },
          "metadata": {
            "tags": []
          }
        }
      ]
    },
    {
      "cell_type": "markdown",
      "metadata": {
        "id": "qnc2_fVQkxJe",
        "colab_type": "text"
      },
      "source": [
        "*Se diminuir o zoom nessa curva, podemos visualizar o último cotovelo em k = 5. Não importa o intervalo que selecionamos ex- (1,21), também veremos o mesmo comportamento, mas se escolhermos um intervalo mais alto, será pouco difícil visualizar o COTOVELO, é por isso que geralmente usamos o intervalo (1,11).*\n",
        "**Concluimos então que k = 5**"
      ]
    },
    {
      "cell_type": "code",
      "metadata": {
        "id": "K77e981kkdbl",
        "colab_type": "code",
        "colab": {}
      },
      "source": [
        "#Model Build\n",
        "kmeansmodel = KMeans(n_clusters= 5, init='k-means++', random_state=0)\n",
        "y_kmeans= kmeansmodel.fit_predict(X)"
      ],
      "execution_count": 0,
      "outputs": []
    },
    {
      "cell_type": "markdown",
      "metadata": {
        "id": "Z_8kOz-tleRA",
        "colab_type": "text"
      },
      "source": [
        "*Para aprendizado não supervisionado, usamos \"fit_predict ()\", e para aprendizado supervisionado usamos \"fit_tranform ()\".\n",
        "A variável y_kmeans é o modelo final. Agora, como e onde vamos implantar esse modelo na produção depende de qual ferramenta estamos usando. Neste caso de uso é muito comum e usado no setor de BFS (cartão de crédito) e no varejo para segmentação de clientes.*"
      ]
    },
    {
      "cell_type": "markdown",
      "metadata": {
        "id": "DsCYxB_hp_Jv",
        "colab_type": "text"
      },
      "source": [
        "### **Q4. Visualizando os Clusters**"
      ]
    },
    {
      "cell_type": "code",
      "metadata": {
        "id": "862msUpLlRih",
        "colab_type": "code",
        "colab": {
          "base_uri": "https://localhost:8080/",
          "height": 295
        },
        "outputId": "85a80807-664b-47c7-e24f-86c1d04983f4"
      },
      "source": [
        "\n",
        "plt.scatter(X[y_kmeans == 0, 0], X[y_kmeans == 0, 1], s = 100, c = 'red', label = 'Cluster 1')\n",
        "plt.scatter(X[y_kmeans == 1, 0], X[y_kmeans == 1, 1], s = 100, c = 'blue', label = 'Cluster 2')\n",
        "plt.scatter(X[y_kmeans == 2, 0], X[y_kmeans == 2, 1], s = 100, c = 'green', label = 'Cluster 3')\n",
        "plt.scatter(X[y_kmeans == 3, 0], X[y_kmeans == 3, 1], s = 100, c = 'cyan', label = 'Cluster 4')\n",
        "plt.scatter(X[y_kmeans == 4, 0], X[y_kmeans == 4, 1], s = 100, c = 'magenta', label = 'Cluster 5')\n",
        "plt.scatter(kmeans.cluster_centers_[:, 0], kmeans.cluster_centers_[:, 1], s = 300, c = 'yellow', label = 'Centroids')\n",
        "plt.title('Clusters de Clientes')\n",
        "plt.xlabel('Annual Income (k$)')\n",
        "plt.ylabel('Spending Score (1-100)')\n",
        "plt.legend()\n",
        "plt.show()"
      ],
      "execution_count": 16,
      "outputs": [
        {
          "output_type": "display_data",
          "data": {
            "image/png": "[encoded data removed]",
            "text/plain": [
              "<Figure size 432x288 with 1 Axes>"
            ]
          },
          "metadata": {
            "tags": []
          }
        }
      ]
    },
    {
      "cell_type": "markdown",
      "metadata": {
        "id": "QMcKYanoqe1L",
        "colab_type": "text"
      },
      "source": [
        "## Conclusões\n",
        "\n",
        "* Cluster 1 (Red Color) -> ganhando alto, mas gastando menos\n",
        "* Cluster 2 (Blue Colr) -> média em termos de ganhos e gastos\n",
        "* Cluster 3 (Cor verde) -> ganhando alto e gastando alto \n",
        "* Cluster 4 (ciano Color) -> ganhando menos, mas gastando mais\n",
        "* Cluster 5 (cor magenta) -> ganhando menos, gastando menos\n",
        "\n",
        "\n",
        "Uma opção serias colocar o Cluster 3 em algum sistema de alerta, onde o email pode ser enviado diariamente, para os outros podemos definir uma vez por semana ou uma vez por mês\n",
        "\n",
        "Por fim, lembra-se que este dataset é uma versão resumida, ideal apenas para uma abordagem inicial e para entedermos a função de Clusters."
      ]
    },
    {
      "cell_type": "code",
      "metadata": {
        "id": "Cjb6-4qPp_7w",
        "colab_type": "code",
        "colab": {}
      },
      "source": [
        ""
      ],
      "execution_count": 0,
      "outputs": []
    }
  ]
}
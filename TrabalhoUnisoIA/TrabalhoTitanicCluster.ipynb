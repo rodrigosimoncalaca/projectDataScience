{
  "nbformat": 4,
  "nbformat_minor": 0,
  "metadata": {
    "colab": {
      "name": "TrabalhoTitanicCluster.ipynb",
      "provenance": [],
      "authorship_tag": "ABX9TyNjuJgP6QoGCANNDpyUxsx6",
      "include_colab_link": true
    },
    "kernelspec": {
      "name": "python3",
      "display_name": "Python 3"
    }
  },
  "cells": [
    {
      "cell_type": "markdown",
      "metadata": {
        "id": "view-in-github",
        "colab_type": "text"
      },
      "source": [
        "<a href=\"https://colab.research.google.com/github/rodrigosimoncalaca/projectDataScience/blob/master/TrabalhoUnisoIA/TrabalhoTitanicCluster.ipynb\" target=\"_parent\"><img src=\"https://colab.research.google.com/assets/colab-badge.svg\" alt=\"Open In Colab\"/></a>"
      ]
    },
    {
      "cell_type": "markdown",
      "metadata": {
        "id": "WKQERSGv_vVL",
        "colab_type": "text"
      },
      "source": [
        "#**Analisando Dados do Titanic através de Cluster**"
      ]
    },
    {
      "cell_type": "code",
      "metadata": {
        "id": "8vGea7_m9hZh",
        "colab_type": "code",
        "colab": {}
      },
      "source": [
        "#importando as bibliotecas necessárias\n",
        "import numpy as np\n",
        "import matplotlib.pyplot as plt\n",
        "import pandas as pd\n",
        "import plotly.graph_objs as go\n",
        "%matplotlib inline"
      ],
      "execution_count": 0,
      "outputs": []
    },
    {
      "cell_type": "code",
      "metadata": {
        "id": "_Y7ZMb7jEDzX",
        "colab_type": "code",
        "colab": {}
      },
      "source": [
        "import warnings\n",
        "warnings.filterwarnings(\"ignore\")"
      ],
      "execution_count": 0,
      "outputs": []
    },
    {
      "cell_type": "markdown",
      "metadata": {
        "id": "yZdLoBAM_ZII",
        "colab_type": "text"
      },
      "source": [
        "## Obtendo Dados\n",
        "\n",
        "Dados retirados do site https://www.kaggle.com/c/titanic/data)"
      ]
    },
    {
      "cell_type": "code",
      "metadata": {
        "id": "Va9n7I8-_t8R",
        "colab_type": "code",
        "colab": {}
      },
      "source": [
        "titanic_dataset = pd.read_csv(\"/content/titanic.csv\")"
      ],
      "execution_count": 0,
      "outputs": []
    },
    {
      "cell_type": "markdown",
      "metadata": {
        "id": "gyw_sLH_AQMF",
        "colab_type": "text"
      },
      "source": [
        "## Primeiras Análises\n",
        "\n",
        "Esta etapa tem por objetivo criar uma consciência situacional inicial e permitir um entendimento de como os dados estão estruturados."
      ]
    },
    {
      "cell_type": "code",
      "metadata": {
        "id": "crmYZvI2__LH",
        "colab_type": "code",
        "outputId": "5bebc20b-5c49-4c5e-e5b3-19d82c368ccc",
        "colab": {
          "base_uri": "https://localhost:8080/",
          "height": 206
        }
      },
      "source": [
        "# Executar para mostrar as 5 primeiras linhas, e entendermos a estrutura para montar um dicionário das variáveis\n",
        "titanic_dataset.head()"
      ],
      "execution_count": 4,
      "outputs": [
        {
          "output_type": "execute_result",
          "data": {
            "text/html": [
              "<div>\n",
              "<style scoped>\n",
              "    .dataframe tbody tr th:only-of-type {\n",
              "        vertical-align: middle;\n",
              "    }\n",
              "\n",
              "    .dataframe tbody tr th {\n",
              "        vertical-align: top;\n",
              "    }\n",
              "\n",
              "    .dataframe thead th {\n",
              "        text-align: right;\n",
              "    }\n",
              "</style>\n",
              "<table border=\"1\" class=\"dataframe\">\n",
              "  <thead>\n",
              "    <tr style=\"text-align: right;\">\n",
              "      <th></th>\n",
              "      <th>PassengerId</th>\n",
              "      <th>Survived</th>\n",
              "      <th>Pclass</th>\n",
              "      <th>Name</th>\n",
              "      <th>Sex</th>\n",
              "      <th>Age</th>\n",
              "      <th>SibSp</th>\n",
              "      <th>Parch</th>\n",
              "      <th>Ticket</th>\n",
              "      <th>Fare</th>\n",
              "      <th>Cabin</th>\n",
              "      <th>Embarked</th>\n",
              "    </tr>\n",
              "  </thead>\n",
              "  <tbody>\n",
              "    <tr>\n",
              "      <th>0</th>\n",
              "      <td>1</td>\n",
              "      <td>0</td>\n",
              "      <td>3</td>\n",
              "      <td>Braund, Mr. Owen Harris</td>\n",
              "      <td>male</td>\n",
              "      <td>22.0</td>\n",
              "      <td>1</td>\n",
              "      <td>0</td>\n",
              "      <td>A/5 21171</td>\n",
              "      <td>7.2500</td>\n",
              "      <td>NaN</td>\n",
              "      <td>S</td>\n",
              "    </tr>\n",
              "    <tr>\n",
              "      <th>1</th>\n",
              "      <td>2</td>\n",
              "      <td>1</td>\n",
              "      <td>1</td>\n",
              "      <td>Cumings, Mrs. John Bradley (Florence Briggs Th...</td>\n",
              "      <td>female</td>\n",
              "      <td>38.0</td>\n",
              "      <td>1</td>\n",
              "      <td>0</td>\n",
              "      <td>PC 17599</td>\n",
              "      <td>71.2833</td>\n",
              "      <td>C85</td>\n",
              "      <td>C</td>\n",
              "    </tr>\n",
              "    <tr>\n",
              "      <th>2</th>\n",
              "      <td>3</td>\n",
              "      <td>1</td>\n",
              "      <td>3</td>\n",
              "      <td>Heikkinen, Miss. Laina</td>\n",
              "      <td>female</td>\n",
              "      <td>26.0</td>\n",
              "      <td>0</td>\n",
              "      <td>0</td>\n",
              "      <td>STON/O2. 3101282</td>\n",
              "      <td>7.9250</td>\n",
              "      <td>NaN</td>\n",
              "      <td>S</td>\n",
              "    </tr>\n",
              "    <tr>\n",
              "      <th>3</th>\n",
              "      <td>4</td>\n",
              "      <td>1</td>\n",
              "      <td>1</td>\n",
              "      <td>Futrelle, Mrs. Jacques Heath (Lily May Peel)</td>\n",
              "      <td>female</td>\n",
              "      <td>35.0</td>\n",
              "      <td>1</td>\n",
              "      <td>0</td>\n",
              "      <td>113803</td>\n",
              "      <td>53.1000</td>\n",
              "      <td>C123</td>\n",
              "      <td>S</td>\n",
              "    </tr>\n",
              "    <tr>\n",
              "      <th>4</th>\n",
              "      <td>5</td>\n",
              "      <td>0</td>\n",
              "      <td>3</td>\n",
              "      <td>Allen, Mr. William Henry</td>\n",
              "      <td>male</td>\n",
              "      <td>35.0</td>\n",
              "      <td>0</td>\n",
              "      <td>0</td>\n",
              "      <td>373450</td>\n",
              "      <td>8.0500</td>\n",
              "      <td>NaN</td>\n",
              "      <td>S</td>\n",
              "    </tr>\n",
              "  </tbody>\n",
              "</table>\n",
              "</div>"
            ],
            "text/plain": [
              "   PassengerId  Survived  Pclass  ...     Fare Cabin  Embarked\n",
              "0            1         0       3  ...   7.2500   NaN         S\n",
              "1            2         1       1  ...  71.2833   C85         C\n",
              "2            3         1       3  ...   7.9250   NaN         S\n",
              "3            4         1       1  ...  53.1000  C123         S\n",
              "4            5         0       3  ...   8.0500   NaN         S\n",
              "\n",
              "[5 rows x 12 columns]"
            ]
          },
          "metadata": {
            "tags": []
          },
          "execution_count": 4
        }
      ]
    },
    {
      "cell_type": "markdown",
      "metadata": {
        "id": "mPueLaM3BpR6",
        "colab_type": "text"
      },
      "source": [
        "\n",
        "## Dicionário de Dados\n",
        "\n",
        "   \n",
        "* PassengerId: Número de identificação do passageiro\n",
        "* Survived: Informa se o passageiro sobreviveu ao desastre\n",
        "    - 0 = Não\n",
        "    - 1 = Sim\n",
        "* Pclass: Classe do bilhete\n",
        "    - 1 = 1ª Classe\n",
        "    - 2 = 2ª Classe\n",
        "    - 3 = 3ª Classe\n",
        "* Name: Nome do passageiro\n",
        "* Sex: Sexo do passageiro\n",
        "* Age: Idade do passageiro\n",
        "* SibSp: Quantidade de cônjuges e irmãos a bordo\n",
        "* Parch: Quantidade de pais e filhos a bordo\n",
        "* Ticket: Número da passagem\n",
        "* Fare: Preço da Passagem\n",
        "* Cabin: Número da cabine do passageiro\n",
        "* Embarked: Porto no qual o passageiro embarcou\n",
        "    - C = Cherbourg\n",
        "    - Q = Queenstown\n",
        "    - S = Southampton\n",
        "\n"
      ]
    },
    {
      "cell_type": "markdown",
      "metadata": {
        "id": "60ygqUIGDTMS",
        "colab_type": "text"
      },
      "source": [
        "### **Q1. Quantos atributos (variáveis) e quantas entradas o nosso conjunto de dados possui? Quais os tipos das variáveis?**\n",
        "\n",
        "Vamos prosseguir e identificar a quantidade de entradas que nosso conjunto de dados possui e ver os tipos de cada coluna.\n"
      ]
    },
    {
      "cell_type": "code",
      "metadata": {
        "id": "52wXcdvzAf-2",
        "colab_type": "code",
        "outputId": "bce070e0-b32f-4c41-fb41-90a0e51eb774",
        "colab": {
          "base_uri": "https://localhost:8080/",
          "height": 295
        }
      },
      "source": [
        "# identificar o volume de dados do DataFrame\n",
        "print(\"Entradas:\\t {}\".format(titanic_dataset.shape[0]))\n",
        "print(\"Variáveis:\\t {}\\n\".format(titanic_dataset.shape[1]))\n",
        "\n",
        "# verificar os tipos das variáveis\n",
        "display(titanic_dataset.dtypes)"
      ],
      "execution_count": 5,
      "outputs": [
        {
          "output_type": "stream",
          "text": [
            "Entradas:\t 891\n",
            "Variáveis:\t 12\n",
            "\n"
          ],
          "name": "stdout"
        },
        {
          "output_type": "display_data",
          "data": {
            "text/plain": [
              "PassengerId      int64\n",
              "Survived         int64\n",
              "Pclass           int64\n",
              "Name            object\n",
              "Sex             object\n",
              "Age            float64\n",
              "SibSp            int64\n",
              "Parch            int64\n",
              "Ticket          object\n",
              "Fare           float64\n",
              "Cabin           object\n",
              "Embarked        object\n",
              "dtype: object"
            ]
          },
          "metadata": {
            "tags": []
          }
        }
      ]
    },
    {
      "cell_type": "markdown",
      "metadata": {
        "id": "ALZObVT7DoSR",
        "colab_type": "text"
      },
      "source": [
        "### **Q2. Qual a porcentagem de valores ausentes no *dataset*?**\n",
        "\n",
        "A qualidade de um *dataset* está diretamente relacionada à quantidade de valores ausentes. É importante entender logo no início se esses valores nulos são significativos comparados ao total de entradas.\n"
      ]
    },
    {
      "cell_type": "code",
      "metadata": {
        "id": "AnST1cndDtD5",
        "colab_type": "code",
        "outputId": "99774cdc-ebc4-426b-9e2c-3b9cd51e4111",
        "colab": {
          "base_uri": "https://localhost:8080/",
          "height": 243
        }
      },
      "source": [
        "# ordenar em ordem decrescente as variáveis pela porcentagem de valores ausentes\n",
        "(titanic_dataset.isnull().sum() / titanic_dataset.shape[0]).sort_values(ascending=False)*100"
      ],
      "execution_count": 42,
      "outputs": [
        {
          "output_type": "execute_result",
          "data": {
            "text/plain": [
              "Cabin          77.104377\n",
              "Age            19.865320\n",
              "Embarked        0.224467\n",
              "Fare            0.000000\n",
              "Ticket          0.000000\n",
              "Parch           0.000000\n",
              "SibSp           0.000000\n",
              "Sex             0.000000\n",
              "Name            0.000000\n",
              "Pclass          0.000000\n",
              "Survived        0.000000\n",
              "PassengerId     0.000000\n",
              "dtype: float64"
            ]
          },
          "metadata": {
            "tags": []
          },
          "execution_count": 42
        }
      ]
    },
    {
      "cell_type": "markdown",
      "metadata": {
        "id": "adkdqVBSD7y4",
        "colab_type": "text"
      },
      "source": [
        "### **Q3. Qual o tipo de distribuição das variáveis?** \n",
        "\n",
        "Para identificar a distribuição das variáveis, irei plotar o histograma, que tem como objetivo mostrar a distribuição de frequências de dados obtidos por medições, para identificarmos a frequência com que algo acontece."
      ]
    },
    {
      "cell_type": "code",
      "metadata": {
        "id": "s8rFxaAyDvZ2",
        "colab_type": "code",
        "outputId": "afda60eb-2bd5-4d65-a300-605694bf2cc0",
        "colab": {
          "base_uri": "https://localhost:8080/",
          "height": 607
        }
      },
      "source": [
        "# plotar o histograma das variáveis numéricas\n",
        "titanic_dataset.hist(bins=15, figsize=(15,10));"
      ],
      "execution_count": 7,
      "outputs": [
        {
          "output_type": "display_data",
          "data": {
            "image/png": "[encoded data removed]",
            "text/plain": [
              "<Figure size 1080x720 with 9 Axes>"
            ]
          },
          "metadata": {
            "tags": []
          }
        }
      ]
    },
    {
      "cell_type": "markdown",
      "metadata": {
        "id": "0kCRRJw_EX-a",
        "colab_type": "text"
      },
      "source": [
        "# **Construindo o Modelo**\n",
        "\n",
        "1. Crie um novo quadro de dados com colunas que determinarão os clusters\n",
        "2. Codifique Sex e Embarked"
      ]
    },
    {
      "cell_type": "markdown",
      "metadata": {
        "id": "mArBPPOYFEB7",
        "colab_type": "text"
      },
      "source": [
        "## Criando novo quadro de dados"
      ]
    },
    {
      "cell_type": "code",
      "metadata": {
        "colab_type": "code",
        "outputId": "9e1c6a3b-80a3-4f78-9483-1726ff7c5f58",
        "id": "FvPHfzF-7KjW",
        "colab": {
          "base_uri": "https://localhost:8080/",
          "height": 206
        }
      },
      "source": [
        "# Vamos excluir as colunas que não iremos usar\n",
        "novo_datatitanic = titanic_dataset\n",
        "novo_datatitanic = novo_datatitanic.drop('Ticket', axis=1)\n",
        "novo_datatitanic = novo_datatitanic.drop('Cabin', axis=1)\n",
        "novo_datatitanic = novo_datatitanic.drop('Name', axis=1)\n",
        "novo_datatitanic = novo_datatitanic.drop('PassengerId', axis=1)\n",
        "novo_datatitanic.head()"
      ],
      "execution_count": 96,
      "outputs": [
        {
          "output_type": "execute_result",
          "data": {
            "text/html": [
              "<div>\n",
              "<style scoped>\n",
              "    .dataframe tbody tr th:only-of-type {\n",
              "        vertical-align: middle;\n",
              "    }\n",
              "\n",
              "    .dataframe tbody tr th {\n",
              "        vertical-align: top;\n",
              "    }\n",
              "\n",
              "    .dataframe thead th {\n",
              "        text-align: right;\n",
              "    }\n",
              "</style>\n",
              "<table border=\"1\" class=\"dataframe\">\n",
              "  <thead>\n",
              "    <tr style=\"text-align: right;\">\n",
              "      <th></th>\n",
              "      <th>Survived</th>\n",
              "      <th>Pclass</th>\n",
              "      <th>Sex</th>\n",
              "      <th>Age</th>\n",
              "      <th>SibSp</th>\n",
              "      <th>Parch</th>\n",
              "      <th>Fare</th>\n",
              "      <th>Embarked</th>\n",
              "    </tr>\n",
              "  </thead>\n",
              "  <tbody>\n",
              "    <tr>\n",
              "      <th>0</th>\n",
              "      <td>0</td>\n",
              "      <td>3</td>\n",
              "      <td>male</td>\n",
              "      <td>22.0</td>\n",
              "      <td>1</td>\n",
              "      <td>0</td>\n",
              "      <td>7.2500</td>\n",
              "      <td>S</td>\n",
              "    </tr>\n",
              "    <tr>\n",
              "      <th>1</th>\n",
              "      <td>1</td>\n",
              "      <td>1</td>\n",
              "      <td>female</td>\n",
              "      <td>38.0</td>\n",
              "      <td>1</td>\n",
              "      <td>0</td>\n",
              "      <td>71.2833</td>\n",
              "      <td>C</td>\n",
              "    </tr>\n",
              "    <tr>\n",
              "      <th>2</th>\n",
              "      <td>1</td>\n",
              "      <td>3</td>\n",
              "      <td>female</td>\n",
              "      <td>26.0</td>\n",
              "      <td>0</td>\n",
              "      <td>0</td>\n",
              "      <td>7.9250</td>\n",
              "      <td>S</td>\n",
              "    </tr>\n",
              "    <tr>\n",
              "      <th>3</th>\n",
              "      <td>1</td>\n",
              "      <td>1</td>\n",
              "      <td>female</td>\n",
              "      <td>35.0</td>\n",
              "      <td>1</td>\n",
              "      <td>0</td>\n",
              "      <td>53.1000</td>\n",
              "      <td>S</td>\n",
              "    </tr>\n",
              "    <tr>\n",
              "      <th>4</th>\n",
              "      <td>0</td>\n",
              "      <td>3</td>\n",
              "      <td>male</td>\n",
              "      <td>35.0</td>\n",
              "      <td>0</td>\n",
              "      <td>0</td>\n",
              "      <td>8.0500</td>\n",
              "      <td>S</td>\n",
              "    </tr>\n",
              "  </tbody>\n",
              "</table>\n",
              "</div>"
            ],
            "text/plain": [
              "   Survived  Pclass     Sex   Age  SibSp  Parch     Fare Embarked\n",
              "0         0       3    male  22.0      1      0   7.2500        S\n",
              "1         1       1  female  38.0      1      0  71.2833        C\n",
              "2         1       3  female  26.0      0      0   7.9250        S\n",
              "3         1       1  female  35.0      1      0  53.1000        S\n",
              "4         0       3    male  35.0      0      0   8.0500        S"
            ]
          },
          "metadata": {
            "tags": []
          },
          "execution_count": 96
        }
      ]
    },
    {
      "cell_type": "markdown",
      "metadata": {
        "id": "uvbz5J_2GKnN",
        "colab_type": "text"
      },
      "source": [
        "## Codificando a coluna Sex e Embarked usando LabelEncoder\n"
      ]
    },
    {
      "cell_type": "code",
      "metadata": {
        "id": "V1OrnOYKGTUo",
        "colab_type": "code",
        "colab": {}
      },
      "source": [
        "#Biblioteca usada basicamente para converter os valores categórios em valores numéricos.\n",
        "from sklearn.preprocessing import LabelEncoder"
      ],
      "execution_count": 0,
      "outputs": []
    },
    {
      "cell_type": "code",
      "metadata": {
        "id": "cCunKrmZGVYX",
        "colab_type": "code",
        "colab": {}
      },
      "source": [
        "# O indexador iloc, seleciona por números inteiros das linhas, arrays ou por slice\n",
        "# Parâmetro :,3 significa que quero transformar todas as linhas da coluna com indice 3, lembrando que a contagem começa no 0\n",
        "encoder = LabelEncoder()\n",
        "encoded_sex = encoder.fit_transform(novo_datatitanic.iloc[:, 2])"
      ],
      "execution_count": 0,
      "outputs": []
    },
    {
      "cell_type": "code",
      "metadata": {
        "id": "bUOeIVp5Gane",
        "colab_type": "code",
        "colab": {}
      },
      "source": [
        "#substituo a coluna Sex pelos novos valores que agora serão numéricos\n",
        "novo_datatitanic['Sex'] = encoded_sex"
      ],
      "execution_count": 0,
      "outputs": []
    },
    {
      "cell_type": "code",
      "metadata": {
        "id": "VZvLvjOzAtGG",
        "colab_type": "code",
        "colab": {}
      },
      "source": [
        "novo_datatitanic=novo_datatitanic.dropna()"
      ],
      "execution_count": 0,
      "outputs": []
    },
    {
      "cell_type": "code",
      "metadata": {
        "id": "j7CgrTfz73Uv",
        "colab_type": "code",
        "colab": {}
      },
      "source": [
        "encoded_embarked = encoder.fit_transform(novo_datatitanic.iloc[:, 7])"
      ],
      "execution_count": 0,
      "outputs": []
    },
    {
      "cell_type": "code",
      "metadata": {
        "id": "EZ_WKBpn76Sc",
        "colab_type": "code",
        "colab": {}
      },
      "source": [
        "novo_datatitanic['Embarked'] = encoded_embarked"
      ],
      "execution_count": 0,
      "outputs": []
    },
    {
      "cell_type": "code",
      "metadata": {
        "id": "yA51AmZcGcXs",
        "colab_type": "code",
        "outputId": "ef38dbb9-aebc-42ec-ea62-1a725160f478",
        "colab": {
          "base_uri": "https://localhost:8080/",
          "height": 206
        }
      },
      "source": [
        "novo_datatitanic.head()"
      ],
      "execution_count": 114,
      "outputs": [
        {
          "output_type": "execute_result",
          "data": {
            "text/html": [
              "<div>\n",
              "<style scoped>\n",
              "    .dataframe tbody tr th:only-of-type {\n",
              "        vertical-align: middle;\n",
              "    }\n",
              "\n",
              "    .dataframe tbody tr th {\n",
              "        vertical-align: top;\n",
              "    }\n",
              "\n",
              "    .dataframe thead th {\n",
              "        text-align: right;\n",
              "    }\n",
              "</style>\n",
              "<table border=\"1\" class=\"dataframe\">\n",
              "  <thead>\n",
              "    <tr style=\"text-align: right;\">\n",
              "      <th></th>\n",
              "      <th>Survived</th>\n",
              "      <th>Pclass</th>\n",
              "      <th>Sex</th>\n",
              "      <th>Age</th>\n",
              "      <th>SibSp</th>\n",
              "      <th>Parch</th>\n",
              "      <th>Fare</th>\n",
              "      <th>Embarked</th>\n",
              "    </tr>\n",
              "  </thead>\n",
              "  <tbody>\n",
              "    <tr>\n",
              "      <th>0</th>\n",
              "      <td>0</td>\n",
              "      <td>3</td>\n",
              "      <td>1</td>\n",
              "      <td>22.0</td>\n",
              "      <td>1</td>\n",
              "      <td>0</td>\n",
              "      <td>7.2500</td>\n",
              "      <td>2</td>\n",
              "    </tr>\n",
              "    <tr>\n",
              "      <th>1</th>\n",
              "      <td>1</td>\n",
              "      <td>1</td>\n",
              "      <td>0</td>\n",
              "      <td>38.0</td>\n",
              "      <td>1</td>\n",
              "      <td>0</td>\n",
              "      <td>71.2833</td>\n",
              "      <td>0</td>\n",
              "    </tr>\n",
              "    <tr>\n",
              "      <th>2</th>\n",
              "      <td>1</td>\n",
              "      <td>3</td>\n",
              "      <td>0</td>\n",
              "      <td>26.0</td>\n",
              "      <td>0</td>\n",
              "      <td>0</td>\n",
              "      <td>7.9250</td>\n",
              "      <td>2</td>\n",
              "    </tr>\n",
              "    <tr>\n",
              "      <th>3</th>\n",
              "      <td>1</td>\n",
              "      <td>1</td>\n",
              "      <td>0</td>\n",
              "      <td>35.0</td>\n",
              "      <td>1</td>\n",
              "      <td>0</td>\n",
              "      <td>53.1000</td>\n",
              "      <td>2</td>\n",
              "    </tr>\n",
              "    <tr>\n",
              "      <th>4</th>\n",
              "      <td>0</td>\n",
              "      <td>3</td>\n",
              "      <td>1</td>\n",
              "      <td>35.0</td>\n",
              "      <td>0</td>\n",
              "      <td>0</td>\n",
              "      <td>8.0500</td>\n",
              "      <td>2</td>\n",
              "    </tr>\n",
              "  </tbody>\n",
              "</table>\n",
              "</div>"
            ],
            "text/plain": [
              "   Survived  Pclass  Sex   Age  SibSp  Parch     Fare  Embarked\n",
              "0         0       3    1  22.0      1      0   7.2500         2\n",
              "1         1       1    0  38.0      1      0  71.2833         0\n",
              "2         1       3    0  26.0      0      0   7.9250         2\n",
              "3         1       1    0  35.0      1      0  53.1000         2\n",
              "4         0       3    1  35.0      0      0   8.0500         2"
            ]
          },
          "metadata": {
            "tags": []
          },
          "execution_count": 114
        }
      ]
    },
    {
      "cell_type": "code",
      "metadata": {
        "id": "qhW8f8ZTH-6J",
        "colab_type": "code",
        "colab": {}
      },
      "source": [
        "# Estou gerando uma nova váriavel com todas as linhas a partir do indice 1 até a última coluna\n",
        "features = novo_datatitanic.iloc[:, 0:-1].values"
      ],
      "execution_count": 0,
      "outputs": []
    },
    {
      "cell_type": "code",
      "metadata": {
        "id": "xYgxOeqVIugK",
        "colab_type": "code",
        "outputId": "c39cb516-78a8-4e0a-d2de-95407b032aa2",
        "colab": {
          "base_uri": "https://localhost:8080/",
          "height": 139
        }
      },
      "source": [
        "print(features)"
      ],
      "execution_count": 117,
      "outputs": [
        {
          "output_type": "stream",
          "text": [
            "[[ 0.      3.      1.     ...  1.      0.      7.25  ]\n",
            " [ 1.      1.      0.     ...  1.      0.     71.2833]\n",
            " [ 1.      3.      0.     ...  0.      0.      7.925 ]\n",
            " ...\n",
            " [ 1.      1.      0.     ...  0.      0.     30.    ]\n",
            " [ 1.      1.      1.     ...  0.      0.     30.    ]\n",
            " [ 0.      3.      1.     ...  0.      0.      7.75  ]]\n"
          ],
          "name": "stdout"
        }
      ]
    },
    {
      "cell_type": "markdown",
      "metadata": {
        "id": "6L_fheFnOUOP",
        "colab_type": "text"
      },
      "source": [
        "### Método Cotovelo"
      ]
    },
    {
      "cell_type": "code",
      "metadata": {
        "id": "hSi50KbCQdR_",
        "colab_type": "code",
        "colab": {}
      },
      "source": [
        "#Váriavel alocando todo o dataset a partir do indice 0\n",
        "X= novo_datatitanic.iloc[:,0:-1].values"
      ],
      "execution_count": 0,
      "outputs": []
    },
    {
      "cell_type": "code",
      "metadata": {
        "id": "4qoNNuM0QE1U",
        "colab_type": "code",
        "colab": {}
      },
      "source": [
        "from sklearn.cluster import KMeans\n",
        "wcss=[]"
      ],
      "execution_count": 0,
      "outputs": []
    },
    {
      "cell_type": "code",
      "metadata": {
        "id": "CC9caUszQqqv",
        "colab_type": "code",
        "colab": {}
      },
      "source": [
        "#fórmula usada para segregar os pontos de dados em clusters\n",
        "for i in range(1,11):\n",
        "    kmeans = KMeans(n_clusters= i, init='k-means++', random_state=0)\n",
        "    kmeans.fit(X)\n",
        "    wcss.append(kmeans.inertia_)"
      ],
      "execution_count": 0,
      "outputs": []
    },
    {
      "cell_type": "code",
      "metadata": {
        "id": "MNUBJpZ1Qvtr",
        "colab_type": "code",
        "outputId": "f2c31f86-769e-4136-e6bf-0b0029cc6dda",
        "colab": {
          "base_uri": "https://localhost:8080/",
          "height": 295
        }
      },
      "source": [
        "plt.plot(range(1,11), wcss)\n",
        "plt.title('Método Elbow')\n",
        "plt.xlabel('Nº de clusters')\n",
        "plt.ylabel('wcss')\n",
        "plt.show()"
      ],
      "execution_count": 121,
      "outputs": [
        {
          "output_type": "display_data",
          "data": {
            "image/png": "[encoded data removed]",
            "text/plain": [
              "<Figure size 432x288 with 1 Axes>"
            ]
          },
          "metadata": {
            "tags": []
          }
        }
      ]
    },
    {
      "cell_type": "markdown",
      "metadata": {
        "id": "3K0Nj_KdOaO1",
        "colab_type": "text"
      },
      "source": [
        "*Se diminuir o zoom nessa curva, podemos visualizar o último cotovelo em k = 4. Não importa o intervalo que selecionamos ex- (1,21), também veremos o mesmo comportamento, mas se escolhermos um intervalo mais alto, será pouco difícil visualizar o COTOVELO, é por isso que geralmente usamos o intervalo (1,11).*\n",
        "\n",
        "**Concluimos então que k = 4**"
      ]
    },
    {
      "cell_type": "markdown",
      "metadata": {
        "id": "oRVNLDP5FGyJ",
        "colab_type": "text"
      },
      "source": [
        "### Clusters"
      ]
    },
    {
      "cell_type": "code",
      "metadata": {
        "id": "phNLN-Y7Q4Bi",
        "colab_type": "code",
        "colab": {}
      },
      "source": [
        "#Model Build\n",
        "kmeansmodel = KMeans(n_clusters= 4, init='k-means++',n_init=10,  random_state=0)\n",
        "y_kmeans= kmeansmodel.fit_predict(X)\n",
        "\n"
      ],
      "execution_count": 0,
      "outputs": []
    },
    {
      "cell_type": "markdown",
      "metadata": {
        "id": "0QhTpINWQ8sX",
        "colab_type": "text"
      },
      "source": [
        "*Para aprendizado não supervisionado, usamos \"fit_predict ()\", e para aprendizado supervisionado usamos \"fit_tranform ()\". A variável y_kmeans é o modelo final.*"
      ]
    },
    {
      "cell_type": "code",
      "metadata": {
        "id": "bHnOGtNsRNd1",
        "colab_type": "code",
        "outputId": "0d899812-aaef-491f-bd7c-7bae56ef9c60",
        "colab": {
          "base_uri": "https://localhost:8080/",
          "height": 281
        }
      },
      "source": [
        "plt.scatter(X[y_kmeans == 0, 0], X[y_kmeans == 0, 1], s = 100, c = 'red', label = 'Cluster 1')\n",
        "plt.scatter(X[y_kmeans == 1, 0], X[y_kmeans == 1, 1], s = 100, c = 'blue', label = 'Cluster 2')\n",
        "plt.scatter(X[y_kmeans == 2, 0], X[y_kmeans == 2, 1], s = 100, c = 'green', label = 'Cluster 3')\n",
        "plt.scatter(X[y_kmeans == 3, 0], X[y_kmeans == 3, 1], s = 100, c = 'black', label = 'Cluster 4')\n",
        "plt.scatter(kmeans.cluster_centers_[:, 0], kmeans.cluster_centers_[:, 1], s = 300, c = 'yellow', label = 'Centroids')\n",
        "plt.title('Clusters')\n",
        "plt.legend(loc=1, bbox_to_anchor=(0.6,0.5))\n",
        "plt.grid()\n",
        "plt.show()\n",
        "\n"
      ],
      "execution_count": 153,
      "outputs": [
        {
          "output_type": "display_data",
          "data": {
            "image/png": "[encoded data removed]",
            "text/plain": [
              "<Figure size 432x288 with 1 Axes>"
            ]
          },
          "metadata": {
            "tags": []
          }
        }
      ]
    },
    {
      "cell_type": "code",
      "metadata": {
        "id": "9W8wwW6ACvAK",
        "colab_type": "code",
        "colab": {
          "base_uri": "https://localhost:8080/",
          "height": 499
        },
        "outputId": "fdf7d3f5-64db-45b4-833d-d16d1e396961"
      },
      "source": [
        "data_array = novo_datatitanic.values\n",
        "kmeans = KMeans(n_clusters=4, init='k-means++', n_init=10, random_state=0)\n",
        "novo_datatitanic[\"clusters\"] = kmeans.fit_predict(data_array)\n",
        "novo_datatitanic.groupby(\"clusters\").aggregate(\"mean\").plot.bar(figsize=(10,7.5))\n",
        "plt.title(\"Dados por cluster\")"
      ],
      "execution_count": 144,
      "outputs": [
        {
          "output_type": "execute_result",
          "data": {
            "text/plain": [
              "Text(0.5, 1.0, 'Dados por cluster')"
            ]
          },
          "metadata": {
            "tags": []
          },
          "execution_count": 144
        },
        {
          "output_type": "display_data",
          "data": {
            "image/png": "[encoded data removed]",
            "text/plain": [
              "<Figure size 720x540 with 1 Axes>"
            ]
          },
          "metadata": {
            "tags": []
          }
        }
      ]
    }
  ]
}
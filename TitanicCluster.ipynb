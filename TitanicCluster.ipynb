{
  "nbformat": 4,
  "nbformat_minor": 0,
  "metadata": {
    "colab": {
      "name": "TitanicCluster.ipynb",
      "provenance": [],
      "authorship_tag": "ABX9TyP+MWtSr38UgT3DfaaV36nv",
      "include_colab_link": true
    },
    "kernelspec": {
      "name": "python3",
      "display_name": "Python 3"
    }
  },
  "cells": [
    {
      "cell_type": "markdown",
      "metadata": {
        "id": "view-in-github",
        "colab_type": "text"
      },
      "source": [
        "<a href=\"https://colab.research.google.com/github/rodrigosimoncalaca/projectDataScience/blob/master/TitanicCluster.ipynb\" target=\"_parent\"><img src=\"https://colab.research.google.com/assets/colab-badge.svg\" alt=\"Open In Colab\"/></a>"
      ]
    },
    {
      "cell_type": "markdown",
      "metadata": {
        "id": "WKQERSGv_vVL",
        "colab_type": "text"
      },
      "source": [
        "#**Analisando Dados do Titanic através de Cluster**"
      ]
    },
    {
      "cell_type": "code",
      "metadata": {
        "id": "8vGea7_m9hZh",
        "colab_type": "code",
        "colab": {}
      },
      "source": [
        "#importando as bibliotecas necessárias\n",
        "import numpy as np\n",
        "import matplotlib.pyplot as plt\n",
        "import pandas as pd\n",
        "%matplotlib inline"
      ],
      "execution_count": 0,
      "outputs": []
    },
    {
      "cell_type": "code",
      "metadata": {
        "id": "_Y7ZMb7jEDzX",
        "colab_type": "code",
        "colab": {}
      },
      "source": [
        "import warnings\n",
        "warnings.filterwarnings(\"ignore\")"
      ],
      "execution_count": 0,
      "outputs": []
    },
    {
      "cell_type": "markdown",
      "metadata": {
        "id": "yZdLoBAM_ZII",
        "colab_type": "text"
      },
      "source": [
        "## Obtendo Dados\n",
        "\n",
        "Dados retirados do site https://www.kaggle.com/c/titanic/data)"
      ]
    },
    {
      "cell_type": "code",
      "metadata": {
        "id": "Va9n7I8-_t8R",
        "colab_type": "code",
        "colab": {}
      },
      "source": [
        "titanic_dataset = pd.read_csv(\"/content/titanic.csv\")"
      ],
      "execution_count": 0,
      "outputs": []
    },
    {
      "cell_type": "markdown",
      "metadata": {
        "id": "gyw_sLH_AQMF",
        "colab_type": "text"
      },
      "source": [
        "## Primeiras Análises\n",
        "\n",
        "Esta etapa tem por objetivo criar uma consciência situacional inicial e permitir um entendimento de como os dados estão estruturados."
      ]
    },
    {
      "cell_type": "code",
      "metadata": {
        "id": "crmYZvI2__LH",
        "colab_type": "code",
        "colab": {
          "base_uri": "https://localhost:8080/",
          "height": 206
        },
        "outputId": "2d9ae8e4-090c-4d45-80a0-7cee381e32f7"
      },
      "source": [
        "# Executar para mostrar as 5 primeiras linhas, e entendermos a estrutura para montar um dicionário das variáveis\n",
        "titanic_dataset.head()"
      ],
      "execution_count": 5,
      "outputs": [
        {
          "output_type": "execute_result",
          "data": {
            "text/html": [
              "<div>\n",
              "<style scoped>\n",
              "    .dataframe tbody tr th:only-of-type {\n",
              "        vertical-align: middle;\n",
              "    }\n",
              "\n",
              "    .dataframe tbody tr th {\n",
              "        vertical-align: top;\n",
              "    }\n",
              "\n",
              "    .dataframe thead th {\n",
              "        text-align: right;\n",
              "    }\n",
              "</style>\n",
              "<table border=\"1\" class=\"dataframe\">\n",
              "  <thead>\n",
              "    <tr style=\"text-align: right;\">\n",
              "      <th></th>\n",
              "      <th>PassengerId</th>\n",
              "      <th>Survived</th>\n",
              "      <th>Pclass</th>\n",
              "      <th>Name</th>\n",
              "      <th>Sex</th>\n",
              "      <th>Age</th>\n",
              "      <th>SibSp</th>\n",
              "      <th>Parch</th>\n",
              "      <th>Ticket</th>\n",
              "      <th>Fare</th>\n",
              "      <th>Cabin</th>\n",
              "      <th>Embarked</th>\n",
              "    </tr>\n",
              "  </thead>\n",
              "  <tbody>\n",
              "    <tr>\n",
              "      <th>0</th>\n",
              "      <td>1</td>\n",
              "      <td>0</td>\n",
              "      <td>3</td>\n",
              "      <td>Braund, Mr. Owen Harris</td>\n",
              "      <td>male</td>\n",
              "      <td>22.0</td>\n",
              "      <td>1</td>\n",
              "      <td>0</td>\n",
              "      <td>A/5 21171</td>\n",
              "      <td>7.2500</td>\n",
              "      <td>NaN</td>\n",
              "      <td>S</td>\n",
              "    </tr>\n",
              "    <tr>\n",
              "      <th>1</th>\n",
              "      <td>2</td>\n",
              "      <td>1</td>\n",
              "      <td>1</td>\n",
              "      <td>Cumings, Mrs. John Bradley (Florence Briggs Th...</td>\n",
              "      <td>female</td>\n",
              "      <td>38.0</td>\n",
              "      <td>1</td>\n",
              "      <td>0</td>\n",
              "      <td>PC 17599</td>\n",
              "      <td>71.2833</td>\n",
              "      <td>C85</td>\n",
              "      <td>C</td>\n",
              "    </tr>\n",
              "    <tr>\n",
              "      <th>2</th>\n",
              "      <td>3</td>\n",
              "      <td>1</td>\n",
              "      <td>3</td>\n",
              "      <td>Heikkinen, Miss. Laina</td>\n",
              "      <td>female</td>\n",
              "      <td>26.0</td>\n",
              "      <td>0</td>\n",
              "      <td>0</td>\n",
              "      <td>STON/O2. 3101282</td>\n",
              "      <td>7.9250</td>\n",
              "      <td>NaN</td>\n",
              "      <td>S</td>\n",
              "    </tr>\n",
              "    <tr>\n",
              "      <th>3</th>\n",
              "      <td>4</td>\n",
              "      <td>1</td>\n",
              "      <td>1</td>\n",
              "      <td>Futrelle, Mrs. Jacques Heath (Lily May Peel)</td>\n",
              "      <td>female</td>\n",
              "      <td>35.0</td>\n",
              "      <td>1</td>\n",
              "      <td>0</td>\n",
              "      <td>113803</td>\n",
              "      <td>53.1000</td>\n",
              "      <td>C123</td>\n",
              "      <td>S</td>\n",
              "    </tr>\n",
              "    <tr>\n",
              "      <th>4</th>\n",
              "      <td>5</td>\n",
              "      <td>0</td>\n",
              "      <td>3</td>\n",
              "      <td>Allen, Mr. William Henry</td>\n",
              "      <td>male</td>\n",
              "      <td>35.0</td>\n",
              "      <td>0</td>\n",
              "      <td>0</td>\n",
              "      <td>373450</td>\n",
              "      <td>8.0500</td>\n",
              "      <td>NaN</td>\n",
              "      <td>S</td>\n",
              "    </tr>\n",
              "  </tbody>\n",
              "</table>\n",
              "</div>"
            ],
            "text/plain": [
              "   PassengerId  Survived  Pclass  ...     Fare Cabin  Embarked\n",
              "0            1         0       3  ...   7.2500   NaN         S\n",
              "1            2         1       1  ...  71.2833   C85         C\n",
              "2            3         1       3  ...   7.9250   NaN         S\n",
              "3            4         1       1  ...  53.1000  C123         S\n",
              "4            5         0       3  ...   8.0500   NaN         S\n",
              "\n",
              "[5 rows x 12 columns]"
            ]
          },
          "metadata": {
            "tags": []
          },
          "execution_count": 5
        }
      ]
    },
    {
      "cell_type": "markdown",
      "metadata": {
        "id": "mPueLaM3BpR6",
        "colab_type": "text"
      },
      "source": [
        "\n",
        "## Dicionário de Dados\n",
        "\n",
        "   \n",
        "* PassengerId: Número de identificação do passageiro\n",
        "* Survived: Informa se o passageiro sobreviveu ao desastre\n",
        "    - 0 = Não\n",
        "    - 1 = Sim\n",
        "* Pclass: Classe do bilhete\n",
        "    - 1 = 1ª Classe\n",
        "    - 2 = 2ª Classe\n",
        "    - 3 = 3ª Classe\n",
        "* Name: Nome do passageiro\n",
        "* Sex: Sexo do passageiro\n",
        "* Age: Idade do passageiro\n",
        "* SibSp: Quantidade de cônjuges e irmãos a bordo\n",
        "* Parch: Quantidade de pais e filhos a bordo\n",
        "* Ticket: Número da passagem\n",
        "* Fare: Preço da Passagem\n",
        "* Cabin: Número da cabine do passageiro\n",
        "* Embarked: Porto no qual o passageiro embarcou\n",
        "    - C = Cherbourg\n",
        "    - Q = Queenstown\n",
        "    - S = Southampton\n",
        "\n"
      ]
    },
    {
      "cell_type": "markdown",
      "metadata": {
        "id": "60ygqUIGDTMS",
        "colab_type": "text"
      },
      "source": [
        "### **Q1. Quantos atributos (variáveis) e quantas entradas o nosso conjunto de dados possui? Quais os tipos das variáveis?**\n",
        "\n",
        "Vamos prosseguir e identificar a quantidade de entradas que nosso conjunto de dados possui e ver os tipos de cada coluna.\n"
      ]
    },
    {
      "cell_type": "code",
      "metadata": {
        "id": "52wXcdvzAf-2",
        "colab_type": "code",
        "colab": {
          "base_uri": "https://localhost:8080/",
          "height": 295
        },
        "outputId": "06d93381-a6ca-4066-ffb3-af63ea239f4c"
      },
      "source": [
        "# identificar o volume de dados do DataFrame\n",
        "print(\"Entradas:\\t {}\".format(titanic_dataset.shape[0]))\n",
        "print(\"Variáveis:\\t {}\\n\".format(titanic_dataset.shape[1]))\n",
        "\n",
        "# verificar os tipos das variáveis\n",
        "display(titanic_dataset.dtypes)"
      ],
      "execution_count": 6,
      "outputs": [
        {
          "output_type": "stream",
          "text": [
            "Entradas:\t 891\n",
            "Variáveis:\t 12\n",
            "\n"
          ],
          "name": "stdout"
        },
        {
          "output_type": "display_data",
          "data": {
            "text/plain": [
              "PassengerId      int64\n",
              "Survived         int64\n",
              "Pclass           int64\n",
              "Name            object\n",
              "Sex             object\n",
              "Age            float64\n",
              "SibSp            int64\n",
              "Parch            int64\n",
              "Ticket          object\n",
              "Fare           float64\n",
              "Cabin           object\n",
              "Embarked        object\n",
              "dtype: object"
            ]
          },
          "metadata": {
            "tags": []
          }
        }
      ]
    },
    {
      "cell_type": "markdown",
      "metadata": {
        "id": "ALZObVT7DoSR",
        "colab_type": "text"
      },
      "source": [
        "### **Q2. Qual a porcentagem de valores ausentes no *dataset*?**\n",
        "\n",
        "A qualidade de um *dataset* está diretamente relacionada à quantidade de valores ausentes. É importante entender logo no início se esses valores nulos são significativos comparados ao total de entradas.\n"
      ]
    },
    {
      "cell_type": "code",
      "metadata": {
        "id": "AnST1cndDtD5",
        "colab_type": "code",
        "colab": {
          "base_uri": "https://localhost:8080/",
          "height": 243
        },
        "outputId": "a49a0c76-49f1-4bef-95c0-622de2e4ec50"
      },
      "source": [
        "# ordenar em ordem decrescente as variáveis pela porcentagem de valores ausentes\n",
        "(titanic_dataset.isnull().sum() / titanic_dataset.shape[0]).sort_values(ascending=False)*100"
      ],
      "execution_count": 8,
      "outputs": [
        {
          "output_type": "execute_result",
          "data": {
            "text/plain": [
              "Cabin          77.104377\n",
              "Age            19.865320\n",
              "Embarked        0.224467\n",
              "Fare            0.000000\n",
              "Ticket          0.000000\n",
              "Parch           0.000000\n",
              "SibSp           0.000000\n",
              "Sex             0.000000\n",
              "Name            0.000000\n",
              "Pclass          0.000000\n",
              "Survived        0.000000\n",
              "PassengerId     0.000000\n",
              "dtype: float64"
            ]
          },
          "metadata": {
            "tags": []
          },
          "execution_count": 8
        }
      ]
    },
    {
      "cell_type": "markdown",
      "metadata": {
        "id": "adkdqVBSD7y4",
        "colab_type": "text"
      },
      "source": [
        "### **Q3. Qual o tipo de distribuição das variáveis?** \n",
        "\n",
        "Para identificar a distribuição das variáveis, irei plotar o histograma, que tem como objetivo mostrar a distribuição de frequências de dados obtidos por medições, para identificarmos a frequência com que algo acontece."
      ]
    },
    {
      "cell_type": "code",
      "metadata": {
        "id": "s8rFxaAyDvZ2",
        "colab_type": "code",
        "colab": {
          "base_uri": "https://localhost:8080/",
          "height": 607
        },
        "outputId": "8b24e06c-eba8-4335-d02e-72ca4cc32df7"
      },
      "source": [
        "# plotar o histograma das variáveis numéricas\n",
        "titanic_dataset.hist(bins=15, figsize=(15,10));"
      ],
      "execution_count": 11,
      "outputs": [
        {
          "output_type": "display_data",
          "data": {
            "image/png": "[encoded data removed]",
            "text/plain": [
              "<Figure size 1080x720 with 9 Axes>"
            ]
          },
          "metadata": {
            "tags": []
          }
        }
      ]
    },
    {
      "cell_type": "markdown",
      "metadata": {
        "id": "0kCRRJw_EX-a",
        "colab_type": "text"
      },
      "source": [
        "# **Pré-Processamento (Cluster)**\n",
        "\n",
        "1. Crie um novo quadro de dados com colunas que determinarão os clusters\n",
        "2. Codifique Sex colum para 0 e 1\n",
        "3. Use o PCA para redução de dimensionalidade, para que possamos plotar pontos de dados facilmente\n",
        "\n",
        "Como você pode ver, há uma coluna chamada Age (idade) que não está na mesma escala que o restante de nossos dados, mas como estamos usando o PCA, tudo estará na mesma escala."
      ]
    },
    {
      "cell_type": "markdown",
      "metadata": {
        "id": "mArBPPOYFEB7",
        "colab_type": "text"
      },
      "source": [
        "## Criando novo quadro de dados"
      ]
    },
    {
      "cell_type": "code",
      "metadata": {
        "id": "Oj-JouODD_Tb",
        "colab_type": "code",
        "colab": {
          "base_uri": "https://localhost:8080/",
          "height": 206
        },
        "outputId": "f4b01c2d-55b3-4921-b425-5cdc5f79945a"
      },
      "source": [
        "# Vamos excluir as colunas que não iremos usar\n",
        "set_to_use = titanic_dataset\n",
        "set_to_use = set_to_use.drop('Name', axis=1)\n",
        "set_to_use = set_to_use.drop('Ticket', axis=1)\n",
        "set_to_use = set_to_use.drop('Fare', axis=1)\n",
        "set_to_use = set_to_use.drop('Embarked', axis=1)\n",
        "set_to_use.head()"
      ],
      "execution_count": 15,
      "outputs": [
        {
          "output_type": "execute_result",
          "data": {
            "text/html": [
              "<div>\n",
              "<style scoped>\n",
              "    .dataframe tbody tr th:only-of-type {\n",
              "        vertical-align: middle;\n",
              "    }\n",
              "\n",
              "    .dataframe tbody tr th {\n",
              "        vertical-align: top;\n",
              "    }\n",
              "\n",
              "    .dataframe thead th {\n",
              "        text-align: right;\n",
              "    }\n",
              "</style>\n",
              "<table border=\"1\" class=\"dataframe\">\n",
              "  <thead>\n",
              "    <tr style=\"text-align: right;\">\n",
              "      <th></th>\n",
              "      <th>PassengerId</th>\n",
              "      <th>Survived</th>\n",
              "      <th>Pclass</th>\n",
              "      <th>Sex</th>\n",
              "      <th>Age</th>\n",
              "      <th>SibSp</th>\n",
              "      <th>Parch</th>\n",
              "      <th>Cabin</th>\n",
              "    </tr>\n",
              "  </thead>\n",
              "  <tbody>\n",
              "    <tr>\n",
              "      <th>0</th>\n",
              "      <td>1</td>\n",
              "      <td>0</td>\n",
              "      <td>3</td>\n",
              "      <td>male</td>\n",
              "      <td>22.0</td>\n",
              "      <td>1</td>\n",
              "      <td>0</td>\n",
              "      <td>NaN</td>\n",
              "    </tr>\n",
              "    <tr>\n",
              "      <th>1</th>\n",
              "      <td>2</td>\n",
              "      <td>1</td>\n",
              "      <td>1</td>\n",
              "      <td>female</td>\n",
              "      <td>38.0</td>\n",
              "      <td>1</td>\n",
              "      <td>0</td>\n",
              "      <td>C85</td>\n",
              "    </tr>\n",
              "    <tr>\n",
              "      <th>2</th>\n",
              "      <td>3</td>\n",
              "      <td>1</td>\n",
              "      <td>3</td>\n",
              "      <td>female</td>\n",
              "      <td>26.0</td>\n",
              "      <td>0</td>\n",
              "      <td>0</td>\n",
              "      <td>NaN</td>\n",
              "    </tr>\n",
              "    <tr>\n",
              "      <th>3</th>\n",
              "      <td>4</td>\n",
              "      <td>1</td>\n",
              "      <td>1</td>\n",
              "      <td>female</td>\n",
              "      <td>35.0</td>\n",
              "      <td>1</td>\n",
              "      <td>0</td>\n",
              "      <td>C123</td>\n",
              "    </tr>\n",
              "    <tr>\n",
              "      <th>4</th>\n",
              "      <td>5</td>\n",
              "      <td>0</td>\n",
              "      <td>3</td>\n",
              "      <td>male</td>\n",
              "      <td>35.0</td>\n",
              "      <td>0</td>\n",
              "      <td>0</td>\n",
              "      <td>NaN</td>\n",
              "    </tr>\n",
              "  </tbody>\n",
              "</table>\n",
              "</div>"
            ],
            "text/plain": [
              "   PassengerId  Survived  Pclass     Sex   Age  SibSp  Parch Cabin\n",
              "0            1         0       3    male  22.0      1      0   NaN\n",
              "1            2         1       1  female  38.0      1      0   C85\n",
              "2            3         1       3  female  26.0      0      0   NaN\n",
              "3            4         1       1  female  35.0      1      0  C123\n",
              "4            5         0       3    male  35.0      0      0   NaN"
            ]
          },
          "metadata": {
            "tags": []
          },
          "execution_count": 15
        }
      ]
    },
    {
      "cell_type": "code",
      "metadata": {
        "id": "WVmKbbdZFNFq",
        "colab_type": "code",
        "colab": {}
      },
      "source": [
        "# fillna() - é usado para atualizar valores ausentes com a média, moda ou mediana da coluna. \n",
        "set_to_use.fillna(0, inplace=True)"
      ],
      "execution_count": 0,
      "outputs": []
    },
    {
      "cell_type": "code",
      "metadata": {
        "id": "5d_ckammFSKW",
        "colab_type": "code",
        "colab": {
          "base_uri": "https://localhost:8080/",
          "height": 206
        },
        "outputId": "7ac0b99c-ba67-4733-822e-8a7d6d78965b"
      },
      "source": [
        "#Podemos observar que não existe mais valores ausentes\n",
        "set_to_use.head()"
      ],
      "execution_count": 18,
      "outputs": [
        {
          "output_type": "execute_result",
          "data": {
            "text/html": [
              "<div>\n",
              "<style scoped>\n",
              "    .dataframe tbody tr th:only-of-type {\n",
              "        vertical-align: middle;\n",
              "    }\n",
              "\n",
              "    .dataframe tbody tr th {\n",
              "        vertical-align: top;\n",
              "    }\n",
              "\n",
              "    .dataframe thead th {\n",
              "        text-align: right;\n",
              "    }\n",
              "</style>\n",
              "<table border=\"1\" class=\"dataframe\">\n",
              "  <thead>\n",
              "    <tr style=\"text-align: right;\">\n",
              "      <th></th>\n",
              "      <th>PassengerId</th>\n",
              "      <th>Survived</th>\n",
              "      <th>Pclass</th>\n",
              "      <th>Sex</th>\n",
              "      <th>Age</th>\n",
              "      <th>SibSp</th>\n",
              "      <th>Parch</th>\n",
              "      <th>Cabin</th>\n",
              "    </tr>\n",
              "  </thead>\n",
              "  <tbody>\n",
              "    <tr>\n",
              "      <th>0</th>\n",
              "      <td>1</td>\n",
              "      <td>0</td>\n",
              "      <td>3</td>\n",
              "      <td>male</td>\n",
              "      <td>22.0</td>\n",
              "      <td>1</td>\n",
              "      <td>0</td>\n",
              "      <td>0</td>\n",
              "    </tr>\n",
              "    <tr>\n",
              "      <th>1</th>\n",
              "      <td>2</td>\n",
              "      <td>1</td>\n",
              "      <td>1</td>\n",
              "      <td>female</td>\n",
              "      <td>38.0</td>\n",
              "      <td>1</td>\n",
              "      <td>0</td>\n",
              "      <td>C85</td>\n",
              "    </tr>\n",
              "    <tr>\n",
              "      <th>2</th>\n",
              "      <td>3</td>\n",
              "      <td>1</td>\n",
              "      <td>3</td>\n",
              "      <td>female</td>\n",
              "      <td>26.0</td>\n",
              "      <td>0</td>\n",
              "      <td>0</td>\n",
              "      <td>0</td>\n",
              "    </tr>\n",
              "    <tr>\n",
              "      <th>3</th>\n",
              "      <td>4</td>\n",
              "      <td>1</td>\n",
              "      <td>1</td>\n",
              "      <td>female</td>\n",
              "      <td>35.0</td>\n",
              "      <td>1</td>\n",
              "      <td>0</td>\n",
              "      <td>C123</td>\n",
              "    </tr>\n",
              "    <tr>\n",
              "      <th>4</th>\n",
              "      <td>5</td>\n",
              "      <td>0</td>\n",
              "      <td>3</td>\n",
              "      <td>male</td>\n",
              "      <td>35.0</td>\n",
              "      <td>0</td>\n",
              "      <td>0</td>\n",
              "      <td>0</td>\n",
              "    </tr>\n",
              "  </tbody>\n",
              "</table>\n",
              "</div>"
            ],
            "text/plain": [
              "   PassengerId  Survived  Pclass     Sex   Age  SibSp  Parch Cabin\n",
              "0            1         0       3    male  22.0      1      0     0\n",
              "1            2         1       1  female  38.0      1      0   C85\n",
              "2            3         1       3  female  26.0      0      0     0\n",
              "3            4         1       1  female  35.0      1      0  C123\n",
              "4            5         0       3    male  35.0      0      0     0"
            ]
          },
          "metadata": {
            "tags": []
          },
          "execution_count": 18
        }
      ]
    },
    {
      "cell_type": "markdown",
      "metadata": {
        "id": "uvbz5J_2GKnN",
        "colab_type": "text"
      },
      "source": [
        "## Codificando a coluna Sexo usando LabelEncoder\n"
      ]
    },
    {
      "cell_type": "code",
      "metadata": {
        "id": "V1OrnOYKGTUo",
        "colab_type": "code",
        "colab": {}
      },
      "source": [
        "#Biblioteca usada basicamente para converter os valores categórios em valores numéricos.\n",
        "from sklearn.preprocessing import LabelEncoder"
      ],
      "execution_count": 0,
      "outputs": []
    },
    {
      "cell_type": "code",
      "metadata": {
        "id": "cCunKrmZGVYX",
        "colab_type": "code",
        "colab": {}
      },
      "source": [
        "# O indexador iloc, seleciona por números inteiros das linhas, arrays ou por slice\n",
        "# Parâmetro :,3 significa que quero transformar todas as linhas da coluna com indice 3, lembrando que a contagem começa no 0\n",
        "encoder = LabelEncoder()\n",
        "encoded_sex = encoder.fit_transform(set_to_use.iloc[:, 3])"
      ],
      "execution_count": 0,
      "outputs": []
    },
    {
      "cell_type": "code",
      "metadata": {
        "id": "bUOeIVp5Gane",
        "colab_type": "code",
        "colab": {}
      },
      "source": [
        "#substituo a coluna Sex pelos novos valores que agora serão numéricos\n",
        "set_to_use['Sex'] = encoded_sex"
      ],
      "execution_count": 0,
      "outputs": []
    },
    {
      "cell_type": "code",
      "metadata": {
        "id": "yA51AmZcGcXs",
        "colab_type": "code",
        "colab": {
          "base_uri": "https://localhost:8080/",
          "height": 206
        },
        "outputId": "d8ffc74f-6539-4bd2-9c46-21c24cd07456"
      },
      "source": [
        "set_to_use.head()"
      ],
      "execution_count": 23,
      "outputs": [
        {
          "output_type": "execute_result",
          "data": {
            "text/html": [
              "<div>\n",
              "<style scoped>\n",
              "    .dataframe tbody tr th:only-of-type {\n",
              "        vertical-align: middle;\n",
              "    }\n",
              "\n",
              "    .dataframe tbody tr th {\n",
              "        vertical-align: top;\n",
              "    }\n",
              "\n",
              "    .dataframe thead th {\n",
              "        text-align: right;\n",
              "    }\n",
              "</style>\n",
              "<table border=\"1\" class=\"dataframe\">\n",
              "  <thead>\n",
              "    <tr style=\"text-align: right;\">\n",
              "      <th></th>\n",
              "      <th>PassengerId</th>\n",
              "      <th>Survived</th>\n",
              "      <th>Pclass</th>\n",
              "      <th>Sex</th>\n",
              "      <th>Age</th>\n",
              "      <th>SibSp</th>\n",
              "      <th>Parch</th>\n",
              "      <th>Cabin</th>\n",
              "    </tr>\n",
              "  </thead>\n",
              "  <tbody>\n",
              "    <tr>\n",
              "      <th>0</th>\n",
              "      <td>1</td>\n",
              "      <td>0</td>\n",
              "      <td>3</td>\n",
              "      <td>1</td>\n",
              "      <td>22.0</td>\n",
              "      <td>1</td>\n",
              "      <td>0</td>\n",
              "      <td>0</td>\n",
              "    </tr>\n",
              "    <tr>\n",
              "      <th>1</th>\n",
              "      <td>2</td>\n",
              "      <td>1</td>\n",
              "      <td>1</td>\n",
              "      <td>0</td>\n",
              "      <td>38.0</td>\n",
              "      <td>1</td>\n",
              "      <td>0</td>\n",
              "      <td>C85</td>\n",
              "    </tr>\n",
              "    <tr>\n",
              "      <th>2</th>\n",
              "      <td>3</td>\n",
              "      <td>1</td>\n",
              "      <td>3</td>\n",
              "      <td>0</td>\n",
              "      <td>26.0</td>\n",
              "      <td>0</td>\n",
              "      <td>0</td>\n",
              "      <td>0</td>\n",
              "    </tr>\n",
              "    <tr>\n",
              "      <th>3</th>\n",
              "      <td>4</td>\n",
              "      <td>1</td>\n",
              "      <td>1</td>\n",
              "      <td>0</td>\n",
              "      <td>35.0</td>\n",
              "      <td>1</td>\n",
              "      <td>0</td>\n",
              "      <td>C123</td>\n",
              "    </tr>\n",
              "    <tr>\n",
              "      <th>4</th>\n",
              "      <td>5</td>\n",
              "      <td>0</td>\n",
              "      <td>3</td>\n",
              "      <td>1</td>\n",
              "      <td>35.0</td>\n",
              "      <td>0</td>\n",
              "      <td>0</td>\n",
              "      <td>0</td>\n",
              "    </tr>\n",
              "  </tbody>\n",
              "</table>\n",
              "</div>"
            ],
            "text/plain": [
              "   PassengerId  Survived  Pclass  Sex   Age  SibSp  Parch Cabin\n",
              "0            1         0       3    1  22.0      1      0     0\n",
              "1            2         1       1    0  38.0      1      0   C85\n",
              "2            3         1       3    0  26.0      0      0     0\n",
              "3            4         1       1    0  35.0      1      0  C123\n",
              "4            5         0       3    1  35.0      0      0     0"
            ]
          },
          "metadata": {
            "tags": []
          },
          "execution_count": 23
        }
      ]
    },
    {
      "cell_type": "code",
      "metadata": {
        "id": "qhW8f8ZTH-6J",
        "colab_type": "code",
        "colab": {}
      },
      "source": [
        "# Estou gerando uma nova váriavel com todas as linhas a partir do indice 1 até a última coluna\n",
        "features = set_to_use.iloc[:, 1:-1].values"
      ],
      "execution_count": 0,
      "outputs": []
    },
    {
      "cell_type": "code",
      "metadata": {
        "id": "xYgxOeqVIugK",
        "colab_type": "code",
        "colab": {
          "base_uri": "https://localhost:8080/",
          "height": 139
        },
        "outputId": "03fb1c2c-9327-48d0-c747-f878339c29cb"
      },
      "source": [
        "print(features)"
      ],
      "execution_count": 29,
      "outputs": [
        {
          "output_type": "stream",
          "text": [
            "[[ 0.  3.  1. 22.  1.  0.]\n",
            " [ 1.  1.  0. 38.  1.  0.]\n",
            " [ 1.  3.  0. 26.  0.  0.]\n",
            " ...\n",
            " [ 0.  3.  0.  0.  1.  2.]\n",
            " [ 1.  1.  1. 26.  0.  0.]\n",
            " [ 0.  3.  1. 32.  0.  0.]]\n"
          ],
          "name": "stdout"
        }
      ]
    },
    {
      "cell_type": "markdown",
      "metadata": {
        "id": "iNvpeKPVMh84",
        "colab_type": "text"
      },
      "source": [
        "## Usando a Análise de Componentes Principais (PCA) para redução de dimensionalidade"
      ]
    },
    {
      "cell_type": "code",
      "metadata": {
        "id": "nMHVlf0PIv40",
        "colab_type": "code",
        "colab": {}
      },
      "source": [
        "from sklearn.decomposition import PCA"
      ],
      "execution_count": 0,
      "outputs": []
    },
    {
      "cell_type": "code",
      "metadata": {
        "id": "rwvDtfUJMpZv",
        "colab_type": "code",
        "colab": {}
      },
      "source": [
        "#Reduzindo para 4 componentes\n",
        "titanic_pca = PCA(n_components=4)\n",
        "titanic_pca.fit(features)\n",
        "test = titanic_pca.transform(features)"
      ],
      "execution_count": 0,
      "outputs": []
    },
    {
      "cell_type": "code",
      "metadata": {
        "id": "jXb3a1zWMuSt",
        "colab_type": "code",
        "colab": {
          "base_uri": "https://localhost:8080/",
          "height": 295
        },
        "outputId": "55a1f1f8-62f3-4998-ce2c-def9d1f3f553"
      },
      "source": [
        "plt.plot(list(titanic_pca.explained_variance_ratio_),'-o')\n",
        "plt.title('Razão de variação explicada em função dos componentes do PCA')\n",
        "plt.ylabel('Taxa de variância explicada')\n",
        "plt.xlabel('Componente')\n",
        "plt.show()"
      ],
      "execution_count": 37,
      "outputs": [
        {
          "output_type": "display_data",
          "data": {
            "image/png": "[encoded data removed]",
            "text/plain": [
              "<Figure size 432x288 with 1 Axes>"
            ]
          },
          "metadata": {
            "tags": []
          }
        }
      ]
    },
    {
      "cell_type": "markdown",
      "metadata": {
        "id": "j5aErisdPwWB",
        "colab_type": "text"
      },
      "source": [
        "**Este PCA acima com 4 componentes foi para teste. Vamos precisar de 2 componentes para plotagem 2D, também para cada algoritmo de agrupamento que usaremos características reduzidas com 2 recursos**"
      ]
    },
    {
      "cell_type": "code",
      "metadata": {
        "id": "JrxCSmZcO_sa",
        "colab_type": "code",
        "colab": {}
      },
      "source": [
        "reduction_pca = PCA(n_components=2)\n",
        "reduced_features = reduction_pca.fit_transform(features)"
      ],
      "execution_count": 0,
      "outputs": []
    },
    {
      "cell_type": "markdown",
      "metadata": {
        "id": "Q7KTA7FaP5uu",
        "colab_type": "text"
      },
      "source": [
        "## Clustering"
      ]
    },
    {
      "cell_type": "markdown",
      "metadata": {
        "id": "PhesLZKSP98w",
        "colab_type": "text"
      },
      "source": [
        "Primeiro vamos usar a versão SKlearn do KMeans"
      ]
    },
    {
      "cell_type": "code",
      "metadata": {
        "id": "RnlUqaSkP3F3",
        "colab_type": "code",
        "colab": {}
      },
      "source": [
        "from sklearn.cluster import KMeans"
      ],
      "execution_count": 0,
      "outputs": []
    },
    {
      "cell_type": "markdown",
      "metadata": {
        "id": "ZyTgowFhQEoA",
        "colab_type": "text"
      },
      "source": [
        "- Iremos começar com a versão de 5 clusters.\n"
      ]
    },
    {
      "cell_type": "code",
      "metadata": {
        "id": "ZVApf-FIQBYV",
        "colab_type": "code",
        "colab": {}
      },
      "source": [
        "km = KMeans(n_clusters=5)\n",
        "clusters = km.fit(reduced_features)\n"
      ],
      "execution_count": 0,
      "outputs": []
    },
    {
      "cell_type": "code",
      "metadata": {
        "id": "ZTOkkixiQTI6",
        "colab_type": "code",
        "colab": {
          "base_uri": "https://localhost:8080/",
          "height": 69
        },
        "outputId": "448aff01-3cf0-43df-e501-57af39171e52"
      },
      "source": [
        "clusters"
      ],
      "execution_count": 41,
      "outputs": [
        {
          "output_type": "execute_result",
          "data": {
            "text/plain": [
              "KMeans(algorithm='auto', copy_x=True, init='k-means++', max_iter=300,\n",
              "       n_clusters=5, n_init=10, n_jobs=None, precompute_distances='auto',\n",
              "       random_state=None, tol=0.0001, verbose=0)"
            ]
          },
          "metadata": {
            "tags": []
          },
          "execution_count": 41
        }
      ]
    },
    {
      "cell_type": "code",
      "metadata": {
        "id": "0DjDKA1EQVSI",
        "colab_type": "code",
        "colab": {
          "base_uri": "https://localhost:8080/",
          "height": 281
        },
        "outputId": "e86713e3-90ef-4826-efa0-37ec414554bc"
      },
      "source": [
        "\n",
        "\n",
        "plt.scatter(reduced_features[:, 0], reduced_features[:, 1], label='Dados')\n",
        "plt.scatter(clusters.cluster_centers_[:, 0], clusters.cluster_centers_[:, 1], label='Clusters')\n",
        "plt.title(\"KMeans\")\n",
        "plt.legend()\n",
        "plt.show()"
      ],
      "execution_count": 53,
      "outputs": [
        {
          "output_type": "display_data",
          "data": {
            "image/png": "[encoded data removed]",
            "text/plain": [
              "<Figure size 432x288 with 1 Axes>"
            ]
          },
          "metadata": {
            "tags": []
          }
        }
      ]
    },
    {
      "cell_type": "code",
      "metadata": {
        "id": "s315aB_lQXib",
        "colab_type": "code",
        "colab": {
          "base_uri": "https://localhost:8080/",
          "height": 34
        },
        "outputId": "4c921743-fb97-4ba1-d97f-fc32921cadc2"
      },
      "source": [
        "reduced_features.shape"
      ],
      "execution_count": 44,
      "outputs": [
        {
          "output_type": "execute_result",
          "data": {
            "text/plain": [
              "(891, 2)"
            ]
          },
          "metadata": {
            "tags": []
          },
          "execution_count": 44
        }
      ]
    },
    {
      "cell_type": "code",
      "metadata": {
        "id": "AM_UQh8YQc3C",
        "colab_type": "code",
        "colab": {
          "base_uri": "https://localhost:8080/",
          "height": 104
        },
        "outputId": "9edba91e-e426-4a24-8ddb-a51732ef16d9"
      },
      "source": [
        "clusters.cluster_centers_"
      ],
      "execution_count": 46,
      "outputs": [
        {
          "output_type": "execute_result",
          "data": {
            "text/plain": [
              "array([[-22.6707669 ,   0.13760433],\n",
              "       [  7.26957844,  -0.16324169],\n",
              "       [ 20.40166879,   0.15568667],\n",
              "       [ -3.55585101,  -0.10161391],\n",
              "       [ 36.77858312,   0.12392474]])"
            ]
          },
          "metadata": {
            "tags": []
          },
          "execution_count": 46
        }
      ]
    },
    {
      "cell_type": "markdown",
      "metadata": {
        "id": "UZOvpjcOQpPV",
        "colab_type": "text"
      },
      "source": [
        "## Método do cotovelo"
      ]
    },
    {
      "cell_type": "code",
      "metadata": {
        "id": "oQZd6j2EQhui",
        "colab_type": "code",
        "colab": {
          "base_uri": "https://localhost:8080/",
          "height": 404
        },
        "outputId": "ae0d1dfa-dbbf-4c4b-9b68-ea23b879cf71"
      },
      "source": [
        "cluster_distorsion = []\n",
        "for i in range(1, 16):\n",
        "    test_sklearn = KMeans(n_clusters=i)\n",
        "    test_sklearn.fit(reduced_features)\n",
        "    cluster_distorsion.append(test_sklearn.inertia_)\n",
        "plt.figure(figsize=(9, 6))\n",
        "plt.plot(cluster_distorsion, marker='o', label='Distorção para algum número de clusters')\n",
        "plt.title(\"Distorção entre clusters\")\n",
        "plt.xlabel('Numero de clusters')\n",
        "plt.ylabel(\"Distorção\")\n",
        "plt.legend()\n",
        "plt.show()"
      ],
      "execution_count": 51,
      "outputs": [
        {
          "output_type": "display_data",
          "data": {
            "image/png": "[encoded data removed]",
            "text/plain": [
              "<Figure size 648x432 with 1 Axes>"
            ]
          },
          "metadata": {
            "tags": []
          }
        }
      ]
    },
    {
      "cell_type": "markdown",
      "metadata": {
        "id": "t8E8JnYLR8L-",
        "colab_type": "text"
      },
      "source": [
        "## Mudança Média"
      ]
    },
    {
      "cell_type": "code",
      "metadata": {
        "id": "GHzh-NAOQtsr",
        "colab_type": "code",
        "colab": {}
      },
      "source": [
        "from sklearn.cluster import MeanShift"
      ],
      "execution_count": 0,
      "outputs": []
    },
    {
      "cell_type": "code",
      "metadata": {
        "id": "_xcOS-b5Sudl",
        "colab_type": "code",
        "colab": {}
      },
      "source": [
        "mean_shift_sklearn = MeanShift(bandwidth=6.5)"
      ],
      "execution_count": 0,
      "outputs": []
    },
    {
      "cell_type": "code",
      "metadata": {
        "id": "E0iKVpUfSwAe",
        "colab_type": "code",
        "colab": {}
      },
      "source": [
        "clust = mean_shift_sklearn.fit(reduced_features)"
      ],
      "execution_count": 0,
      "outputs": []
    },
    {
      "cell_type": "code",
      "metadata": {
        "id": "LlbORNPRSxJj",
        "colab_type": "code",
        "colab": {
          "base_uri": "https://localhost:8080/",
          "height": 281
        },
        "outputId": "469ddbff-61fe-4f6b-999f-4f3df7be1fd3"
      },
      "source": [
        "plt.scatter(reduced_features[:, 0], reduced_features[:, 1], label='Pontos de Dados')\n",
        "plt.scatter(clust.cluster_centers_[:, 0], clust.cluster_centers_[:, 1], label='Clusters de turnos médios')\n",
        "plt.title(\"Média de alterações no deslocamento\")\n",
        "plt.legend()\n",
        "plt.show()"
      ],
      "execution_count": 58,
      "outputs": [
        {
          "output_type": "display_data",
          "data": {
            "image/png": "[encoded data removed]",
            "text/plain": [
              "<Figure size 432x288 with 1 Axes>"
            ]
          },
          "metadata": {
            "tags": []
          }
        }
      ]
    }
  ]
}
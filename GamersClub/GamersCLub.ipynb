{
  "nbformat": 4,
  "nbformat_minor": 0,
  "metadata": {
    "colab": {
      "name": "GamersCLub.ipynb",
      "provenance": [],
      "collapsed_sections": [],
      "authorship_tag": "ABX9TyPMcRvJlnd8mGrT7glS32l6",
      "include_colab_link": true
    },
    "kernelspec": {
      "name": "python3",
      "display_name": "Python 3"
    }
  },
  "cells": [
    {
      "cell_type": "markdown",
      "metadata": {
        "id": "view-in-github",
        "colab_type": "text"
      },
      "source": [
        "<a href=\"https://colab.research.google.com/github/rodrigosimoncalaca/projectDataScience/blob/master/GamersCLub.ipynb\" target=\"_parent\"><img src=\"https://colab.research.google.com/assets/colab-badge.svg\" alt=\"Open In Colab\"/></a>"
      ]
    },
    {
      "cell_type": "markdown",
      "metadata": {
        "id": "2nuX3qr6qnCg",
        "colab_type": "text"
      },
      "source": [
        "<center><img src=\"https://www.rumo.com.br/lojas/00036391/images/20200310/logo.png\" height=\"220px\"></center>\n",
        "\n",
        "\n",
        "# Analisando Dados da Gamers Club - Teste Prático\n",
        "\n",
        "Esse teste prático consiste em:\n",
        "* Analisar os datasets ofertados\n",
        "* Pontos importantes encontrados no dataset e tendências identificadas;\n",
        "* Correlações observadas;\n",
        "* Fazer ao menos uma sugestão de como poderiam explorar este nicho - isso é, gerar valor através de dados;\n"
      ]
    },
    {
      "cell_type": "markdown",
      "metadata": {
        "id": "fucLr8sor4SX",
        "colab_type": "text"
      },
      "source": [
        "## Obtenção dos Dados\n",
        "\n",
        "Todos os dados usados aqui foram obtidos a partir do banco de dados disponibilizados pela empresa\n",
        "\n",
        "Para esta análise exploratória inicial, será baixado apenas o seguinte arquivo:\n",
        "\n",
        "* `matchmaking_stats_summary` - *tabela que compõe todos os dados do jogador no modo ranqueado.*"
      ]
    },
    {
      "cell_type": "code",
      "metadata": {
        "id": "aG1FQ2gKsxrL",
        "colab_type": "code",
        "colab": {}
      },
      "source": [
        "import warnings\n",
        "warnings.filterwarnings(\"ignore\")"
      ],
      "execution_count": 0,
      "outputs": []
    },
    {
      "cell_type": "code",
      "metadata": {
        "id": "EtoPm2EurdDj",
        "colab_type": "code",
        "colab": {}
      },
      "source": [
        "# importar os pacotes necessarios\n",
        "import pandas as pd\n",
        "import matplotlib.pyplot as plt\n",
        "import seaborn as sns\n",
        "\n",
        "%matplotlib inline"
      ],
      "execution_count": 0,
      "outputs": []
    },
    {
      "cell_type": "code",
      "metadata": {
        "id": "DlQzHR4Isqui",
        "colab_type": "code",
        "colab": {}
      },
      "source": [
        "# importar o arquivo listings.csv para um DataFrame\n",
        "df = pd.read_csv(\"/content/matchmaking_stats_summary.csv\")\n"
      ],
      "execution_count": 0,
      "outputs": []
    },
    {
      "cell_type": "markdown",
      "metadata": {
        "id": "qzWzhHaqs7bh",
        "colab_type": "text"
      },
      "source": [
        "## Análise dos Dados\n",
        "\n",
        "Esta etapa tem por objetivo criar uma consciência situacional inicial e permitir um entendimento de como os dados estão estruturados.\n"
      ]
    },
    {
      "cell_type": "code",
      "metadata": {
        "id": "_tThSGu_s5EZ",
        "colab_type": "code",
        "colab": {
          "base_uri": "https://localhost:8080/",
          "height": 206
        },
        "outputId": "534857fd-821f-4fc6-bcd4-775741295b6b"
      },
      "source": [
        "# Executar para mostrar as 5 primeiras linhas, e entendermos a estrutura para montar um dicionário das variáveis\n",
        "df.head()"
      ],
      "execution_count": 5,
      "outputs": [
        {
          "output_type": "execute_result",
          "data": {
            "text/html": [
              "<div>\n",
              "<style scoped>\n",
              "    .dataframe tbody tr th:only-of-type {\n",
              "        vertical-align: middle;\n",
              "    }\n",
              "\n",
              "    .dataframe tbody tr th {\n",
              "        vertical-align: top;\n",
              "    }\n",
              "\n",
              "    .dataframe thead th {\n",
              "        text-align: right;\n",
              "    }\n",
              "</style>\n",
              "<table border=\"1\" class=\"dataframe\">\n",
              "  <thead>\n",
              "    <tr style=\"text-align: right;\">\n",
              "      <th></th>\n",
              "      <th>id</th>\n",
              "      <th>player_id</th>\n",
              "      <th>matches_played</th>\n",
              "      <th>total_wins</th>\n",
              "      <th>total_loss</th>\n",
              "      <th>mm_points</th>\n",
              "      <th>assist</th>\n",
              "      <th>death</th>\n",
              "      <th>hs</th>\n",
              "      <th>kills</th>\n",
              "      <th>is_mm</th>\n",
              "      <th>created_at</th>\n",
              "      <th>updated_at</th>\n",
              "    </tr>\n",
              "  </thead>\n",
              "  <tbody>\n",
              "    <tr>\n",
              "      <th>0</th>\n",
              "      <td>1</td>\n",
              "      <td>354985</td>\n",
              "      <td>1</td>\n",
              "      <td>1</td>\n",
              "      <td>0</td>\n",
              "      <td>3</td>\n",
              "      <td>5</td>\n",
              "      <td>13</td>\n",
              "      <td>6</td>\n",
              "      <td>13</td>\n",
              "      <td>0</td>\n",
              "      <td>2020-02-01 00:47:32.0</td>\n",
              "      <td>2020-02-01 00:47:32.0</td>\n",
              "    </tr>\n",
              "    <tr>\n",
              "      <th>1</th>\n",
              "      <td>2</td>\n",
              "      <td>152268</td>\n",
              "      <td>1</td>\n",
              "      <td>0</td>\n",
              "      <td>1</td>\n",
              "      <td>-1</td>\n",
              "      <td>3</td>\n",
              "      <td>20</td>\n",
              "      <td>2</td>\n",
              "      <td>15</td>\n",
              "      <td>0</td>\n",
              "      <td>2020-02-01 00:54:01.0</td>\n",
              "      <td>2020-02-01 00:54:01.0</td>\n",
              "    </tr>\n",
              "    <tr>\n",
              "      <th>2</th>\n",
              "      <td>3</td>\n",
              "      <td>679247</td>\n",
              "      <td>1</td>\n",
              "      <td>0</td>\n",
              "      <td>1</td>\n",
              "      <td>-1</td>\n",
              "      <td>5</td>\n",
              "      <td>23</td>\n",
              "      <td>4</td>\n",
              "      <td>7</td>\n",
              "      <td>0</td>\n",
              "      <td>2020-02-01 01:00:31.0</td>\n",
              "      <td>2020-02-01 01:00:31.0</td>\n",
              "    </tr>\n",
              "    <tr>\n",
              "      <th>3</th>\n",
              "      <td>4</td>\n",
              "      <td>604607</td>\n",
              "      <td>1</td>\n",
              "      <td>0</td>\n",
              "      <td>1</td>\n",
              "      <td>-1</td>\n",
              "      <td>3</td>\n",
              "      <td>21</td>\n",
              "      <td>8</td>\n",
              "      <td>11</td>\n",
              "      <td>0</td>\n",
              "      <td>2020-02-01 01:03:02.0</td>\n",
              "      <td>2020-02-01 01:03:02.0</td>\n",
              "    </tr>\n",
              "    <tr>\n",
              "      <th>4</th>\n",
              "      <td>5</td>\n",
              "      <td>325203</td>\n",
              "      <td>1</td>\n",
              "      <td>1</td>\n",
              "      <td>0</td>\n",
              "      <td>3</td>\n",
              "      <td>2</td>\n",
              "      <td>13</td>\n",
              "      <td>11</td>\n",
              "      <td>21</td>\n",
              "      <td>0</td>\n",
              "      <td>2020-02-01 01:04:02.0</td>\n",
              "      <td>2020-02-01 01:04:02.0</td>\n",
              "    </tr>\n",
              "  </tbody>\n",
              "</table>\n",
              "</div>"
            ],
            "text/plain": [
              "   id  player_id  ...             created_at             updated_at\n",
              "0   1     354985  ...  2020-02-01 00:47:32.0  2020-02-01 00:47:32.0\n",
              "1   2     152268  ...  2020-02-01 00:54:01.0  2020-02-01 00:54:01.0\n",
              "2   3     679247  ...  2020-02-01 01:00:31.0  2020-02-01 01:00:31.0\n",
              "3   4     604607  ...  2020-02-01 01:03:02.0  2020-02-01 01:03:02.0\n",
              "4   5     325203  ...  2020-02-01 01:04:02.0  2020-02-01 01:04:02.0\n",
              "\n",
              "[5 rows x 13 columns]"
            ]
          },
          "metadata": {
            "tags": []
          },
          "execution_count": 5
        }
      ]
    },
    {
      "cell_type": "markdown",
      "metadata": {
        "id": "GpwXqkcntZmJ",
        "colab_type": "text"
      },
      "source": [
        "**Dicionário das variáveis**\n",
        "\n",
        "* *player_id*: identificação do jogador\n",
        "* *matches_played*: quantidade de partidas jogadas\n",
        "* *total_wins*: quantidade de vitórias\n",
        "* *total_loss*: quantidade de derrotas\n",
        "* *mm_points*: saldo de pontos\n",
        "* *kills*: total de abates\n",
        "* *death*: total de mortes\n",
        "* *assist*: total de assistências\n",
        "* *hs*: quantidade de tiros na cabeça\n",
        "* *created_at*: data de criação do registro\n",
        "* *updated_at*: data de última atualização do registro\n",
        "* *is_mm*: campo boleano\n"
      ]
    },
    {
      "cell_type": "markdown",
      "metadata": {
        "id": "em9scBI7uigG",
        "colab_type": "text"
      },
      "source": [
        "### **Q1. Quantos atributos (variáveis) e quantas entradas o nosso conjunto de dados possui? Quais os tipos das variáveis?**\n",
        "\n",
        "Vamos prosseguir e identificar a quantidade de entradas que nosso conjunto de dados possui e ver os tipos de cada coluna.\n"
      ]
    },
    {
      "cell_type": "code",
      "metadata": {
        "id": "EW3rawjUtUZd",
        "colab_type": "code",
        "colab": {
          "base_uri": "https://localhost:8080/",
          "height": 312
        },
        "outputId": "bc051faa-362b-4da0-8ea3-31193a613019"
      },
      "source": [
        "# identificar o volume de dados do DataFrame\n",
        "print(\"Entradas:\\t {}\".format(df.shape[0]))\n",
        "print(\"Variáveis:\\t {}\\n\".format(df.shape[1]))\n",
        "\n",
        "# verificar os tipos das variáveis\n",
        "display(df.dtypes)"
      ],
      "execution_count": 7,
      "outputs": [
        {
          "output_type": "stream",
          "text": [
            "Entradas:\t 2057\n",
            "Variáveis:\t 13\n",
            "\n"
          ],
          "name": "stdout"
        },
        {
          "output_type": "display_data",
          "data": {
            "text/plain": [
              "id                 int64\n",
              "player_id          int64\n",
              "matches_played     int64\n",
              "total_wins         int64\n",
              "total_loss         int64\n",
              "mm_points          int64\n",
              "assist             int64\n",
              "death              int64\n",
              "hs                 int64\n",
              "kills              int64\n",
              "is_mm              int64\n",
              "created_at        object\n",
              "updated_at        object\n",
              "dtype: object"
            ]
          },
          "metadata": {
            "tags": []
          }
        }
      ]
    },
    {
      "cell_type": "markdown",
      "metadata": {
        "id": "Sur4bcWgursi",
        "colab_type": "text"
      },
      "source": [
        "### **Q2. Qual a porcentagem de valores ausentes no *dataset*?**\n",
        "\n",
        "A qualidade de um *dataset* está diretamente relacionada à quantidade de valores ausentes. É importante entender logo no início se esses valores nulos são significativos comparados ao total de entradas."
      ]
    },
    {
      "cell_type": "code",
      "metadata": {
        "id": "tD_eU6cluakX",
        "colab_type": "code",
        "colab": {
          "base_uri": "https://localhost:8080/",
          "height": 260
        },
        "outputId": "e22ee34f-424d-4daa-b18a-112ee920f3df"
      },
      "source": [
        "# ordenar em ordem decrescente as variáveis pela porcentagem de valores ausentes\n",
        "(df.isnull().sum() / df.shape[0]).sort_values(ascending=False)*100"
      ],
      "execution_count": 8,
      "outputs": [
        {
          "output_type": "execute_result",
          "data": {
            "text/plain": [
              "updated_at        0.0\n",
              "created_at        0.0\n",
              "is_mm             0.0\n",
              "kills             0.0\n",
              "hs                0.0\n",
              "death             0.0\n",
              "assist            0.0\n",
              "mm_points         0.0\n",
              "total_loss        0.0\n",
              "total_wins        0.0\n",
              "matches_played    0.0\n",
              "player_id         0.0\n",
              "id                0.0\n",
              "dtype: float64"
            ]
          },
          "metadata": {
            "tags": []
          },
          "execution_count": 8
        }
      ]
    },
    {
      "cell_type": "markdown",
      "metadata": {
        "id": "FXSId69Auz8f",
        "colab_type": "text"
      },
      "source": [
        "\n",
        "* É possível ver que não temos nenhuma coluna com valores faltantes "
      ]
    },
    {
      "cell_type": "markdown",
      "metadata": {
        "id": "vsZ4qEPOvBB9",
        "colab_type": "text"
      },
      "source": [
        "### **Q3. Qual o tipo de distribuição das variáveis?** \n",
        "\n",
        "Para identificar a distribuição das variáveis, irei plotar o histograma, que tem como objetivo mostrar a distribuição de frequências de dados obtidos por medições, para identificarmos a frequência com que algo acontece."
      ]
    },
    {
      "cell_type": "code",
      "metadata": {
        "id": "u_MkR_TmuwfV",
        "colab_type": "code",
        "colab": {
          "base_uri": "https://localhost:8080/",
          "height": 607
        },
        "outputId": "a313c7c2-0870-4aaa-ad1d-71d5429c4520"
      },
      "source": [
        "# plotar o histograma das variáveis numéricas\n",
        "df.hist(bins=15, figsize=(15,10));"
      ],
      "execution_count": 9,
      "outputs": [
        {
          "output_type": "display_data",
          "data": {
            "image/png": "[encoded data removed]",
            "text/plain": [
              "<Figure size 1080x720 with 12 Axes>"
            ]
          },
          "metadata": {
            "tags": []
          }
        }
      ]
    },
    {
      "cell_type": "markdown",
      "metadata": {
        "id": "-jDjyLi2vP_E",
        "colab_type": "text"
      },
      "source": [
        "### **Q4. Há *outliers* presentes?**\n",
        "\n",
        "Pela distribuição do histograma, é possível verificar que pode haver indícios da presença de *outliers*.\n",
        "Olhe por exemplo a variável *death*.\n",
        "\n",
        " **- Aspectos de outliers:**\n",
        "\n",
        "  * Os outliers podem impactar negativamente todo o resultado de uma análise;\n",
        "  * O comportamento dos outliers pode ser justamente o que está sendo procurado.\n",
        "\n",
        "Mas para nos auxiliar nessa verificação há duas maneiras rápidas que ajudam na detecção de *outliers*. São elas:\n",
        "\n",
        "* Resumo estatístico por meio do método `describe()`\n",
        "* Plotar `boxplots` para a variável."
      ]
    },
    {
      "cell_type": "code",
      "metadata": {
        "id": "Y1Q7866evGy_",
        "colab_type": "code",
        "colab": {
          "base_uri": "https://localhost:8080/",
          "height": 300
        },
        "outputId": "feeadce4-9a21-41ea-8538-4170d8ca200a"
      },
      "source": [
        "# ver o resumo estatístico das variáveis numéricas\n",
        "df[['assist', 'death', 'hs', 'kills', 'matches_played', 'mm_points', 'total_loss', 'total_wins']].describe()"
      ],
      "execution_count": 10,
      "outputs": [
        {
          "output_type": "execute_result",
          "data": {
            "text/html": [
              "<div>\n",
              "<style scoped>\n",
              "    .dataframe tbody tr th:only-of-type {\n",
              "        vertical-align: middle;\n",
              "    }\n",
              "\n",
              "    .dataframe tbody tr th {\n",
              "        vertical-align: top;\n",
              "    }\n",
              "\n",
              "    .dataframe thead th {\n",
              "        text-align: right;\n",
              "    }\n",
              "</style>\n",
              "<table border=\"1\" class=\"dataframe\">\n",
              "  <thead>\n",
              "    <tr style=\"text-align: right;\">\n",
              "      <th></th>\n",
              "      <th>assist</th>\n",
              "      <th>death</th>\n",
              "      <th>hs</th>\n",
              "      <th>kills</th>\n",
              "      <th>matches_played</th>\n",
              "      <th>mm_points</th>\n",
              "      <th>total_loss</th>\n",
              "      <th>total_wins</th>\n",
              "    </tr>\n",
              "  </thead>\n",
              "  <tbody>\n",
              "    <tr>\n",
              "      <th>count</th>\n",
              "      <td>2057.000000</td>\n",
              "      <td>2057.000000</td>\n",
              "      <td>2057.000000</td>\n",
              "      <td>2057.000000</td>\n",
              "      <td>2057.000000</td>\n",
              "      <td>2057.000000</td>\n",
              "      <td>2057.000000</td>\n",
              "      <td>2057.000000</td>\n",
              "    </tr>\n",
              "    <tr>\n",
              "      <th>mean</th>\n",
              "      <td>10.269324</td>\n",
              "      <td>46.074380</td>\n",
              "      <td>18.461351</td>\n",
              "      <td>31.797764</td>\n",
              "      <td>2.555177</td>\n",
              "      <td>2.487117</td>\n",
              "      <td>1.279047</td>\n",
              "      <td>1.274672</td>\n",
              "    </tr>\n",
              "    <tr>\n",
              "      <th>std</th>\n",
              "      <td>14.133342</td>\n",
              "      <td>61.313705</td>\n",
              "      <td>24.949571</td>\n",
              "      <td>42.750850</td>\n",
              "      <td>3.182209</td>\n",
              "      <td>4.728829</td>\n",
              "      <td>1.765403</td>\n",
              "      <td>1.835635</td>\n",
              "    </tr>\n",
              "    <tr>\n",
              "      <th>min</th>\n",
              "      <td>0.000000</td>\n",
              "      <td>0.000000</td>\n",
              "      <td>0.000000</td>\n",
              "      <td>0.000000</td>\n",
              "      <td>1.000000</td>\n",
              "      <td>-8.000000</td>\n",
              "      <td>0.000000</td>\n",
              "      <td>0.000000</td>\n",
              "    </tr>\n",
              "    <tr>\n",
              "      <th>25%</th>\n",
              "      <td>3.000000</td>\n",
              "      <td>17.000000</td>\n",
              "      <td>6.000000</td>\n",
              "      <td>11.000000</td>\n",
              "      <td>1.000000</td>\n",
              "      <td>-1.000000</td>\n",
              "      <td>0.000000</td>\n",
              "      <td>0.000000</td>\n",
              "    </tr>\n",
              "    <tr>\n",
              "      <th>50%</th>\n",
              "      <td>6.000000</td>\n",
              "      <td>23.000000</td>\n",
              "      <td>10.000000</td>\n",
              "      <td>17.000000</td>\n",
              "      <td>1.000000</td>\n",
              "      <td>2.000000</td>\n",
              "      <td>1.000000</td>\n",
              "      <td>1.000000</td>\n",
              "    </tr>\n",
              "    <tr>\n",
              "      <th>75%</th>\n",
              "      <td>12.000000</td>\n",
              "      <td>50.000000</td>\n",
              "      <td>21.000000</td>\n",
              "      <td>34.000000</td>\n",
              "      <td>3.000000</td>\n",
              "      <td>3.000000</td>\n",
              "      <td>1.000000</td>\n",
              "      <td>2.000000</td>\n",
              "    </tr>\n",
              "    <tr>\n",
              "      <th>max</th>\n",
              "      <td>222.000000</td>\n",
              "      <td>953.000000</td>\n",
              "      <td>242.000000</td>\n",
              "      <td>632.000000</td>\n",
              "      <td>49.000000</td>\n",
              "      <td>45.000000</td>\n",
              "      <td>27.000000</td>\n",
              "      <td>22.000000</td>\n",
              "    </tr>\n",
              "  </tbody>\n",
              "</table>\n",
              "</div>"
            ],
            "text/plain": [
              "            assist        death  ...   total_loss   total_wins\n",
              "count  2057.000000  2057.000000  ...  2057.000000  2057.000000\n",
              "mean     10.269324    46.074380  ...     1.279047     1.274672\n",
              "std      14.133342    61.313705  ...     1.765403     1.835635\n",
              "min       0.000000     0.000000  ...     0.000000     0.000000\n",
              "25%       3.000000    17.000000  ...     0.000000     0.000000\n",
              "50%       6.000000    23.000000  ...     1.000000     1.000000\n",
              "75%      12.000000    50.000000  ...     1.000000     2.000000\n",
              "max     222.000000   953.000000  ...    27.000000    22.000000\n",
              "\n",
              "[8 rows x 8 columns]"
            ]
          },
          "metadata": {
            "tags": []
          },
          "execution_count": 10
        }
      ]
    },
    {
      "cell_type": "markdown",
      "metadata": {
        "id": "wEnI07mpxAfT",
        "colab_type": "text"
      },
      "source": [
        "Olhando o resumo estatístico acima, podemos confirmar algumas hipóteses como:\n",
        "\n",
        "* A variável `death` possui 75% do valor abaixo de 50, porém seu valor máximo é 953.\n",
        "* Fazendo uma consulta simples no banco de dados podemos verificar que só dois jogadores tem mais de 30 partidas jogadas\n",
        "#### Boxplot para minimum_nights\n"
      ]
    },
    {
      "cell_type": "code",
      "metadata": {
        "id": "begjvdhnw5fo",
        "colab_type": "code",
        "colab": {
          "base_uri": "https://localhost:8080/",
          "height": 263
        },
        "outputId": "679107df-1c43-4053-ca5d-b813974a789a"
      },
      "source": [
        "# matches_played\n",
        "df.matches_played.plot(kind='box', vert=False, figsize=(15, 3))\n",
        "plt.show()\n",
        "\n",
        "# ver quantidade de valores acima de 30 para matches_played\n",
        "print(\"matches_played: valores acima de 30:\")\n",
        "print(\"{} entradas\".format(len(df[df.matches_played > 30])))\n",
        "print(\"{:.4f}%\".format((len(df[df.matches_played > 30]) / df.shape[0])*100))"
      ],
      "execution_count": 15,
      "outputs": [
        {
          "output_type": "display_data",
          "data": {
            "image/png": "[encoded data removed]",
            "text/plain": [
              "<Figure size 1080x216 with 1 Axes>"
            ]
          },
          "metadata": {
            "tags": []
          }
        },
        {
          "output_type": "stream",
          "text": [
            "matches_played: valores acima de 30:\n",
            "2 entradas\n",
            "0.0972%\n"
          ],
          "name": "stdout"
        }
      ]
    },
    {
      "cell_type": "markdown",
      "metadata": {
        "id": "T0Mu9UIz18T9",
        "colab_type": "text"
      },
      "source": [
        "#### Boxplot para death"
      ]
    },
    {
      "cell_type": "code",
      "metadata": {
        "id": "ql0r5aN41Tr6",
        "colab_type": "code",
        "colab": {
          "base_uri": "https://localhost:8080/",
          "height": 280
        },
        "outputId": "1dba5fcf-8776-42b3-9b30-20a41f813e35"
      },
      "source": [
        "# death\n",
        "df.death.plot(kind='box', vert=False, figsize=(15, 3),)\n",
        "plt.show()\n",
        "\n",
        "# ver quantidade de valores acima de 600 para death\n",
        "print(\"\\ndeath: valores acima de 600\")\n",
        "print(\"{} entradas\".format(len(df[df.death > 600])))\n",
        "print(\"{:.4f}%\".format((len(df[df.death > 600]) / df.shape[0])*100))\n"
      ],
      "execution_count": 17,
      "outputs": [
        {
          "output_type": "display_data",
          "data": {
            "image/png": "[encoded data removed]",
            "text/plain": [
              "<Figure size 1080x216 with 1 Axes>"
            ]
          },
          "metadata": {
            "tags": []
          }
        },
        {
          "output_type": "stream",
          "text": [
            "\n",
            "death: valores acima de 600\n",
            "2 entradas\n",
            "0.0972%\n"
          ],
          "name": "stdout"
        }
      ]
    },
    {
      "cell_type": "markdown",
      "metadata": {
        "id": "ufbKM3ki2y9P",
        "colab_type": "text"
      },
      "source": [
        "#### Histogramas sem *outliers*\n",
        "\n",
        "Já que identificamos *outliers* nas variáveis `death` e `matches_played`, vamos agora limpar o *DataFrame* delas e plotar novamente o histograma."
      ]
    },
    {
      "cell_type": "code",
      "metadata": {
        "id": "WtGa7H382fUK",
        "colab_type": "code",
        "colab": {
          "base_uri": "https://localhost:8080/",
          "height": 607
        },
        "outputId": "47ffda15-6b43-4147-ae12-5f353415f296"
      },
      "source": [
        "# remover os *outliers* em um novo DataFrame\n",
        "df_clean = df.copy()\n",
        "df_clean.drop(df_clean[df_clean.death > 600].index, axis=0, inplace=True)\n",
        "df_clean.drop(df_clean[df_clean.matches_played > 30].index, axis=0, inplace=True)\n",
        "\n",
        "# remover is_mm pois está a coluna toda zerada\n",
        "df_clean.drop('is_mm', axis=1, inplace=True)\n",
        "\n",
        "# plotar o histograma para as variáveis numéricas\n",
        "df_clean.hist(bins=15, figsize=(15,10));"
      ],
      "execution_count": 19,
      "outputs": [
        {
          "output_type": "display_data",
          "data": {
            "image/png": "[encoded data removed]",
            "text/plain": [
              "<Figure size 1080x720 with 12 Axes>"
            ]
          },
          "metadata": {
            "tags": []
          }
        }
      ]
    },
    {
      "cell_type": "markdown",
      "metadata": {
        "id": "7kgJz9BV4nr8",
        "colab_type": "text"
      },
      "source": [
        "### **Q5. Qual a correlação existente entre as variáveis**\n",
        "\n",
        "Correlação significa que existe uma relação entre duas coisas. No nosso contexto, estamos buscando relação ou semelhança entre duas variáveis.\n",
        "\n",
        "Essa relação pode ser medida, e é função do coeficiente de correlação estabelecer qual a intensidade dela. Para identificar as correlações existentes entre as variáveis de interesse, vou:\n",
        "\n",
        "* Criar uma matriz de correlação\n",
        "* Gerar um *heatmap* a partir dessa matriz, usando a biblioteca `seaborn`"
      ]
    },
    {
      "cell_type": "code",
      "metadata": {
        "id": "obQykpBB39q3",
        "colab_type": "code",
        "colab": {
          "base_uri": "https://localhost:8080/",
          "height": 300
        },
        "outputId": "7cbde39c-1146-4460-9abe-9e24dfc87354"
      },
      "source": [
        "# criar uma matriz de correlação\n",
        "corr = df_clean[['assist', 'kills', 'death', 'hs','total_wins', 'total_loss','mm_points', 'matches_played']].corr()\n",
        "\n",
        "display(corr)"
      ],
      "execution_count": 20,
      "outputs": [
        {
          "output_type": "display_data",
          "data": {
            "text/html": [
              "<div>\n",
              "<style scoped>\n",
              "    .dataframe tbody tr th:only-of-type {\n",
              "        vertical-align: middle;\n",
              "    }\n",
              "\n",
              "    .dataframe tbody tr th {\n",
              "        vertical-align: top;\n",
              "    }\n",
              "\n",
              "    .dataframe thead th {\n",
              "        text-align: right;\n",
              "    }\n",
              "</style>\n",
              "<table border=\"1\" class=\"dataframe\">\n",
              "  <thead>\n",
              "    <tr style=\"text-align: right;\">\n",
              "      <th></th>\n",
              "      <th>assist</th>\n",
              "      <th>kills</th>\n",
              "      <th>death</th>\n",
              "      <th>hs</th>\n",
              "      <th>total_wins</th>\n",
              "      <th>total_loss</th>\n",
              "      <th>mm_points</th>\n",
              "      <th>matches_played</th>\n",
              "    </tr>\n",
              "  </thead>\n",
              "  <tbody>\n",
              "    <tr>\n",
              "      <th>assist</th>\n",
              "      <td>1.000000</td>\n",
              "      <td>0.949972</td>\n",
              "      <td>0.944244</td>\n",
              "      <td>0.901998</td>\n",
              "      <td>0.874939</td>\n",
              "      <td>0.752010</td>\n",
              "      <td>0.716120</td>\n",
              "      <td>0.940413</td>\n",
              "    </tr>\n",
              "    <tr>\n",
              "      <th>kills</th>\n",
              "      <td>0.949972</td>\n",
              "      <td>1.000000</td>\n",
              "      <td>0.969241</td>\n",
              "      <td>0.958423</td>\n",
              "      <td>0.898009</td>\n",
              "      <td>0.781314</td>\n",
              "      <td>0.731343</td>\n",
              "      <td>0.970458</td>\n",
              "    </tr>\n",
              "    <tr>\n",
              "      <th>death</th>\n",
              "      <td>0.944244</td>\n",
              "      <td>0.969241</td>\n",
              "      <td>1.000000</td>\n",
              "      <td>0.912185</td>\n",
              "      <td>0.841270</td>\n",
              "      <td>0.863922</td>\n",
              "      <td>0.635776</td>\n",
              "      <td>0.982222</td>\n",
              "    </tr>\n",
              "    <tr>\n",
              "      <th>hs</th>\n",
              "      <td>0.901998</td>\n",
              "      <td>0.958423</td>\n",
              "      <td>0.912185</td>\n",
              "      <td>1.000000</td>\n",
              "      <td>0.873094</td>\n",
              "      <td>0.709588</td>\n",
              "      <td>0.731178</td>\n",
              "      <td>0.915513</td>\n",
              "    </tr>\n",
              "    <tr>\n",
              "      <th>total_wins</th>\n",
              "      <td>0.874939</td>\n",
              "      <td>0.898009</td>\n",
              "      <td>0.841270</td>\n",
              "      <td>0.873094</td>\n",
              "      <td>1.000000</td>\n",
              "      <td>0.505018</td>\n",
              "      <td>0.945859</td>\n",
              "      <td>0.877814</td>\n",
              "    </tr>\n",
              "    <tr>\n",
              "      <th>total_loss</th>\n",
              "      <td>0.752010</td>\n",
              "      <td>0.781314</td>\n",
              "      <td>0.863922</td>\n",
              "      <td>0.709588</td>\n",
              "      <td>0.505018</td>\n",
              "      <td>1.000000</td>\n",
              "      <td>0.201967</td>\n",
              "      <td>0.856590</td>\n",
              "    </tr>\n",
              "    <tr>\n",
              "      <th>mm_points</th>\n",
              "      <td>0.716120</td>\n",
              "      <td>0.731343</td>\n",
              "      <td>0.635776</td>\n",
              "      <td>0.731178</td>\n",
              "      <td>0.945859</td>\n",
              "      <td>0.201967</td>\n",
              "      <td>1.000000</td>\n",
              "      <td>0.677420</td>\n",
              "    </tr>\n",
              "    <tr>\n",
              "      <th>matches_played</th>\n",
              "      <td>0.940413</td>\n",
              "      <td>0.970458</td>\n",
              "      <td>0.982222</td>\n",
              "      <td>0.915513</td>\n",
              "      <td>0.877814</td>\n",
              "      <td>0.856590</td>\n",
              "      <td>0.677420</td>\n",
              "      <td>1.000000</td>\n",
              "    </tr>\n",
              "  </tbody>\n",
              "</table>\n",
              "</div>"
            ],
            "text/plain": [
              "                  assist     kills  ...  mm_points  matches_played\n",
              "assist          1.000000  0.949972  ...   0.716120        0.940413\n",
              "kills           0.949972  1.000000  ...   0.731343        0.970458\n",
              "death           0.944244  0.969241  ...   0.635776        0.982222\n",
              "hs              0.901998  0.958423  ...   0.731178        0.915513\n",
              "total_wins      0.874939  0.898009  ...   0.945859        0.877814\n",
              "total_loss      0.752010  0.781314  ...   0.201967        0.856590\n",
              "mm_points       0.716120  0.731343  ...   1.000000        0.677420\n",
              "matches_played  0.940413  0.970458  ...   0.677420        1.000000\n",
              "\n",
              "[8 rows x 8 columns]"
            ]
          },
          "metadata": {
            "tags": []
          }
        }
      ]
    },
    {
      "cell_type": "code",
      "metadata": {
        "id": "oBTv15U85r1d",
        "colab_type": "code",
        "colab": {
          "base_uri": "https://localhost:8080/",
          "height": 341
        },
        "outputId": "47d5e9ae-5f15-4ca8-ab7f-8fe320883482"
      },
      "source": [
        "sns.heatmap(corr, cmap='RdBu', fmt='.2f', square=True, linecolor='white', annot=True);"
      ],
      "execution_count": 21,
      "outputs": [
        {
          "output_type": "display_data",
          "data": {
            "image/png": "[encoded data removed]",
            "text/plain": [
              "<Figure size 432x288 with 2 Axes>"
            ]
          },
          "metadata": {
            "tags": []
          }
        }
      ]
    },
    {
      "cell_type": "markdown",
      "metadata": {
        "id": "x8Xz5mUh6aWe",
        "colab_type": "text"
      },
      "source": [
        "## Conclusões\n",
        "\n",
        "Foi feita apenas uma análise superficial na base de dados, porém já se percebeu que existem *outliers* em algumas das variáveis. \n",
        "\n",
        "Também se notou que existem players com poucas partidas jogadas, o que pode distorcer as informações estatísticas de alguns atributos. Além disso pude perceber várias correlações como a quantidade de assistência com a quantidade de kills ou  então a quantidade total de derrotas com a quantidade de death, mas lembrando que correlação não é causa e efeito.\n",
        "\n",
        "Após feito essa análise, eu sugeriria a empresa uma forma de recompensa para o player, que após X nº de partidas jogadas ele receberia algo em troca, incentivando assim esses players que jogaram apenas 1 vez a jogar mais vezes em busca dessa recompensa.\n",
        "\n",
        "Por fim, lembra-se que este *dataset* é apenas uma consulta simples no banco de dados fornecido, ideal apenas para uma abordagem inicial."
      ]
    }
  ]
}
